{
 "cells": [
  {
   "cell_type": "markdown",
   "id": "a706d2bf",
   "metadata": {},
   "source": [
    "# Problem: coin flips and tail probability \n",
    "\n",
    "Assume we flip a fair coin $n$ times. \n",
    "\n",
    "We expect to get in average $n/2$ heads and $n/2$ tails.\n",
    "\n",
    "What is the probability that we get $3n/4$ heads or more? "
   ]
  },
  {
   "cell_type": "markdown",
   "id": "77a471ec",
   "metadata": {},
   "source": [
    "## Simulation approach\n",
    "\n",
    "Let us first get some insights on this question by simulating the problem; let us first produce a possible outcome and count how many heads and tails we get "
   ]
  },
  {
   "cell_type": "code",
   "execution_count": 1,
   "id": "999a1d7b",
   "metadata": {},
   "outputs": [
    {
     "name": "stdout",
     "output_type": "stream",
     "text": [
      "['t' 't' 't' 'h' 't' 't' 't' 't' 't' 't' 'h' 'h' 'h' 'h' 'h' 't' 'h' 'h'\n",
      " 'h' 'h' 'h' 't' 't' 'h' 't' 'h' 'h' 't' 'h' 't' 't' 't' 't' 'h' 'h' 't'\n",
      " 'h' 'h' 't' 'h' 'h' 't' 't' 't' 't' 't' 't' 't' 'h' 'h' 'h' 't' 'h' 'h'\n",
      " 't' 't' 'h' 't' 't' 'h' 't' 'h' 't' 'h' 'h' 't' 'h' 't' 't' 't' 'h' 'h'\n",
      " 'h' 't' 'h' 't' 't' 't' 't' 't' 't' 't' 'h' 'h' 'h' 'h' 'h' 't' 'h' 'h'\n",
      " 't' 'h' 'h' 't' 'h' 'h' 't' 't' 't' 'h']\n",
      "48\n"
     ]
    }
   ],
   "source": [
    "import numpy as np\n",
    "from math import exp\n",
    "\n",
    "n = 100 # set n=40 for simulation to reduce computational time for the simulation approach \n",
    "# set n=100 when computing the bounds and the analytical value of the error probability\n",
    "p = 1/2\n",
    "tosses=np.random.choice( ['h','t'],p=[1-p,p], size=n)\n",
    "heads=list(tosses).count('h')\n",
    "print(tosses)\n",
    "print(heads)"
   ]
  },
  {
   "cell_type": "markdown",
   "id": "ffddbdcf",
   "metadata": {},
   "source": [
    "Let us now generate a large number of outcomes and count how many times the number of heads exceed $0.75*n$. How many runs do we need? "
   ]
  },
  {
   "cell_type": "code",
   "execution_count": 7,
   "id": "59882815",
   "metadata": {},
   "outputs": [
    {
     "name": "stdout",
     "output_type": "stream",
     "text": [
      "number of runs satisfying the constraint =  0\n",
      "estimated probability = 0.00e+00\n"
     ]
    }
   ],
   "source": [
    "runs = int(1e5) #number of runs \n",
    "count =0\n",
    "for i in range(0,runs):\n",
    "    tosses=np.random.choice( ['h','t'],p=[1-p,p], size=n)\n",
    "    heads=list(tosses).count('h')\n",
    "    count += (heads>= 0.75*n)\n",
    "\n",
    "print(\"number of runs satisfying the constraint = \",count)\n",
    "print(\"estimated probability = {:.2e}\".format(count/runs)) "
   ]
  },
  {
   "cell_type": "markdown",
   "id": "273d6a0f",
   "metadata": {},
   "source": [
    "We see that calculating this probability numerically is quite challenging and we need a lot of samples to get a results that is statistically significant"
   ]
  },
  {
   "cell_type": "markdown",
   "id": "5028df86",
   "metadata": {},
   "source": [
    "## Analytical evaluation of the tail probability \n",
    "Let us now try to evaluate this probability using the expression for the binomial PMF"
   ]
  },
  {
   "cell_type": "code",
   "execution_count": 5,
   "id": "49498ffa",
   "metadata": {},
   "outputs": [
    {
     "name": "stdout",
     "output_type": "stream",
     "text": [
      "exact probability =2.82e-07\n"
     ]
    }
   ],
   "source": [
    "from math import exp,ceil,comb\n",
    "a=ceil(3*n/4)\n",
    "\n",
    "prob =0\n",
    "\n",
    "for i in range(a,n+1,1):\n",
    "    prob += comb(n,i)\n",
    "    \n",
    "prob=prob/(2**n)\n",
    "print(\"exact probability ={:.2e}\".format(prob)) "
   ]
  },
  {
   "cell_type": "markdown",
   "id": "8d340186",
   "metadata": {},
   "source": [
    "Note that this probability decreases rapidly as we increase $n$ \n",
    "\n",
    "A good rule of thumb is that, to estimate accurately a target probaility $\\epsilon$ we need $100/\\epsilon$ runs using the simulation approach"
   ]
  },
  {
   "cell_type": "markdown",
   "id": "52c4c93c",
   "metadata": {},
   "source": [
    "## Markov's inequality \n",
    "Let us now check the tightness of the bound obtained using Markov's inequality\n",
    "Since $\\mathbb{E}[X]=n/2$, the bound we get is $2/3$ independently of the value of $n$. "
   ]
  },
  {
   "cell_type": "code",
   "execution_count": 11,
   "id": "07bb11a0",
   "metadata": {},
   "outputs": [
    {
     "name": "stdout",
     "output_type": "stream",
     "text": [
      "estimated probability = 6.67e-01\n"
     ]
    }
   ],
   "source": [
    "print(\"estimated probability = {:.2e}\".format(2/3))"
   ]
  },
  {
   "cell_type": "markdown",
   "id": "8ae3efa4",
   "metadata": {},
   "source": [
    "This bound is very loose for this scenario, but is not surprising. After all, Markov's inequality exploits only our knowledge of the mean of $X$. Markov's inequality is an important tool to establish more sophisticated bounds."
   ]
  },
  {
   "cell_type": "markdown",
   "id": "52212711",
   "metadata": {},
   "source": [
    "## Chebyshev's inequality\n",
    "\n",
    "Since $\\mathbb{V}\\text{ar}[X]= n/4$, Chebyshev's inequality implies that the tail probability can be upper-bounded by $4/n$. This bound now decreases with $n$, which is according to our observations. However, the bound is still rather loose "
   ]
  },
  {
   "cell_type": "code",
   "execution_count": 12,
   "id": "e24daba2",
   "metadata": {},
   "outputs": [
    {
     "name": "stdout",
     "output_type": "stream",
     "text": [
      "estimated probability = 4.00e-02\n"
     ]
    }
   ],
   "source": [
    "print(\"estimated probability = {:.2e}\".format(4/n))"
   ]
  },
  {
   "cell_type": "markdown",
   "id": "03e81ad7",
   "metadata": {},
   "source": [
    "## Chernoff's bound"
   ]
  },
  {
   "cell_type": "code",
   "execution_count": 3,
   "id": "7661684b",
   "metadata": {},
   "outputs": [
    {
     "name": "stdout",
     "output_type": "stream",
     "text": [
      "first Chernoff bound = 4.47e-03\n",
      "second Chernoff bound = 1.55e-02\n"
     ]
    }
   ],
   "source": [
    "from math import exp \n",
    "\n",
    "mu = n/2\n",
    "delta = 1/2\n",
    "\n",
    "ub1 = (exp(delta)/((1+delta)**(1+delta)))**mu\n",
    "ub2 = (exp(-mu * delta**2 /3))\n",
    "print('first Chernoff bound = {:.2e}'.format(ub1))\n",
    "print('second Chernoff bound = {:.2e}'.format(ub2))"
   ]
  },
  {
   "cell_type": "markdown",
   "id": "570bdafc",
   "metadata": {},
   "source": [
    "Although the bound decays exponentially with $n$, it is not very good for $n=100$ because of the constant multiplying $n$"
   ]
  },
  {
   "cell_type": "markdown",
   "id": "2c733a4a",
   "metadata": {},
   "source": [
    "## Chernoff's bound for independent $\\text{Bern}(1/2)$ random variables"
   ]
  },
  {
   "cell_type": "code",
   "execution_count": 5,
   "id": "22c263d4",
   "metadata": {},
   "outputs": [
    {
     "name": "stdout",
     "output_type": "stream",
     "text": [
      "improved Chernoff bound = 3.73e-06\n"
     ]
    }
   ],
   "source": [
    "mu = n/2\n",
    "delta = 1/2\n",
    "ub = (exp(-mu * delta**2))\n",
    "print('improved Chernoff bound = {:.2e}'.format(ub))"
   ]
  },
  {
   "cell_type": "markdown",
   "id": "c7a9347e",
   "metadata": {},
   "source": [
    "Note how much tighter this bound is!"
   ]
  },
  {
   "cell_type": "code",
   "execution_count": null,
   "id": "744752bb",
   "metadata": {},
   "outputs": [],
   "source": []
  }
 ],
 "metadata": {
  "kernelspec": {
   "display_name": "Python 3.9.12 64-bit",
   "language": "python",
   "name": "python3"
  },
  "language_info": {
   "codemirror_mode": {
    "name": "ipython",
    "version": 3
   },
   "file_extension": ".py",
   "mimetype": "text/x-python",
   "name": "python",
   "nbconvert_exporter": "python",
   "pygments_lexer": "ipython3",
   "version": "3.9.12"
  },
  "vscode": {
   "interpreter": {
    "hash": "b0fa6594d8f4cbf19f97940f81e996739fb7646882a419484c72d19e05852a7e"
   }
  }
 },
 "nbformat": 4,
 "nbformat_minor": 5
}
