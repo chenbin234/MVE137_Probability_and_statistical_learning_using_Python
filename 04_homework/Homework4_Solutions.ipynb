{
 "cells": [
  {
   "cell_type": "markdown",
   "id": "6e90e513",
   "metadata": {},
   "source": [
    "**Homework 4**"
   ]
  },
  {
   "cell_type": "markdown",
   "id": "166ceaf8",
   "metadata": {},
   "source": [
    "(1): \n",
    "In this exercise you will create some simulated data and will fit simple linear regression models to it. Make sure to use random.seed(1), prior to starting part (a) to ensure consistent results. (**3 pts**)"
   ]
  },
  {
   "cell_type": "code",
   "execution_count": 162,
   "id": "a4d9c93e",
   "metadata": {},
   "outputs": [],
   "source": [
    "%matplotlib inline\n",
    "import numpy as np\n",
    "import pandas as pd\n",
    "\n",
    "import statsmodels.formula.api as smf\n",
    "from sklearn.linear_model import LinearRegression\n",
    "\n",
    "import matplotlib.pyplot as plt\n",
    "import seaborn as sns\n",
    "\n",
    "np.random.seed(1)"
   ]
  },
  {
   "cell_type": "markdown",
   "id": "f224244b",
   "metadata": {},
   "source": [
    "(a) Using the random.normal() function, create a vector, $x$, containing 100 observations drawn from a N(0, 1) distribution. This represents a feature, $X$."
   ]
  },
  {
   "cell_type": "code",
   "execution_count": 163,
   "id": "a1c136cf",
   "metadata": {},
   "outputs": [
    {
     "data": {
      "image/png": "[encoded data removed]",
      "text/plain": [
       "<Figure size 432x288 with 1 Axes>"
      ]
     },
     "metadata": {
      "needs_background": "light"
     },
     "output_type": "display_data"
    }
   ],
   "source": [
    "x = np.random.normal(size=100)\n",
    "sns.kdeplot(x);\n",
    "sns.rugplot(x); #to show individual observations"
   ]
  },
  {
   "cell_type": "markdown",
   "id": "27376e17",
   "metadata": {},
   "source": [
    "(b) Using the random.normal() function, create a vector, $eps$, containing 100 observations drawn from a N(0, 0.25) distribution i.e. a normal distribution with mean zero and variance 0.25."
   ]
  },
  {
   "cell_type": "code",
   "execution_count": 164,
   "id": "7a5bd39f",
   "metadata": {},
   "outputs": [
    {
     "data": {
      "image/png": "[encoded data removed]",
      "text/plain": [
       "<Figure size 432x288 with 1 Axes>"
      ]
     },
     "metadata": {
      "needs_background": "light"
     },
     "output_type": "display_data"
    }
   ],
   "source": [
    "eps = np.random.normal(scale = 0.5, size=100)\n",
    "\n",
    "sns.kdeplot(eps);\n",
    "sns.rugplot(eps);"
   ]
  },
  {
   "cell_type": "markdown",
   "id": "24dc8db4",
   "metadata": {},
   "source": [
    "(c) Using $x$ and $eps$, generate a vector $y$ according to the model\n",
    "\n",
    "$Y = −1 + 0.5X + \\epsilon$ \n",
    "\n",
    "What is the length of the vector $y$? What are the values of $\\beta_0$\n",
    "and $\\beta_1$ in this linear model?"
   ]
  },
  {
   "cell_type": "code",
   "execution_count": 165,
   "id": "9727f9f5",
   "metadata": {},
   "outputs": [
    {
     "name": "stdout",
     "output_type": "stream",
     "text": [
      "Length of y = 100\n"
     ]
    }
   ],
   "source": [
    "y = -1 + .5*x + eps\n",
    "print('Length of y = ' + str(len(y)))"
   ]
  },
  {
   "cell_type": "markdown",
   "id": "52be7678",
   "metadata": {},
   "source": [
    "(d) Create a scatterplot displaying the relationship between $x$ and $y$. Comment on what you observe."
   ]
  },
  {
   "cell_type": "code",
   "execution_count": 166,
   "id": "e9d33528",
   "metadata": {},
   "outputs": [],
   "source": [
    "df = pd.DataFrame({'x': x, 'y': y})"
   ]
  },
  {
   "cell_type": "code",
   "execution_count": 167,
   "id": "b542917e",
   "metadata": {},
   "outputs": [
    {
     "data": {
      "text/html": [
       "<div>\n",
       "<style scoped>\n",
       "    .dataframe tbody tr th:only-of-type {\n",
       "        vertical-align: middle;\n",
       "    }\n",
       "\n",
       "    .dataframe tbody tr th {\n",
       "        vertical-align: top;\n",
       "    }\n",
       "\n",
       "    .dataframe thead th {\n",
       "        text-align: right;\n",
       "    }\n",
       "</style>\n",
       "<table border=\"1\" class=\"dataframe\">\n",
       "  <thead>\n",
       "    <tr style=\"text-align: right;\">\n",
       "      <th></th>\n",
       "      <th>x</th>\n",
       "      <th>y</th>\n",
       "    </tr>\n",
       "  </thead>\n",
       "  <tbody>\n",
       "    <tr>\n",
       "      <th>0</th>\n",
       "      <td>1.624345</td>\n",
       "      <td>-0.299609</td>\n",
       "    </tr>\n",
       "    <tr>\n",
       "      <th>1</th>\n",
       "      <td>-0.611756</td>\n",
       "      <td>-0.999751</td>\n",
       "    </tr>\n",
       "    <tr>\n",
       "      <th>2</th>\n",
       "      <td>-0.528172</td>\n",
       "      <td>-1.163213</td>\n",
       "    </tr>\n",
       "    <tr>\n",
       "      <th>3</th>\n",
       "      <td>-1.072969</td>\n",
       "      <td>-1.388090</td>\n",
       "    </tr>\n",
       "    <tr>\n",
       "      <th>4</th>\n",
       "      <td>0.865408</td>\n",
       "      <td>-0.841024</td>\n",
       "    </tr>\n",
       "    <tr>\n",
       "      <th>...</th>\n",
       "      <td>...</td>\n",
       "      <td>...</td>\n",
       "    </tr>\n",
       "    <tr>\n",
       "      <th>95</th>\n",
       "      <td>0.077340</td>\n",
       "      <td>-1.368190</td>\n",
       "    </tr>\n",
       "    <tr>\n",
       "      <th>96</th>\n",
       "      <td>-0.343854</td>\n",
       "      <td>-1.021347</td>\n",
       "    </tr>\n",
       "    <tr>\n",
       "      <th>97</th>\n",
       "      <td>0.043597</td>\n",
       "      <td>-0.873131</td>\n",
       "    </tr>\n",
       "    <tr>\n",
       "      <th>98</th>\n",
       "      <td>-0.620001</td>\n",
       "      <td>-1.107263</td>\n",
       "    </tr>\n",
       "    <tr>\n",
       "      <th>99</th>\n",
       "      <td>0.698032</td>\n",
       "      <td>-0.389873</td>\n",
       "    </tr>\n",
       "  </tbody>\n",
       "</table>\n",
       "<p>100 rows × 2 columns</p>\n",
       "</div>"
      ],
      "text/plain": [
       "           x         y\n",
       "0   1.624345 -0.299609\n",
       "1  -0.611756 -0.999751\n",
       "2  -0.528172 -1.163213\n",
       "3  -1.072969 -1.388090\n",
       "4   0.865408 -0.841024\n",
       "..       ...       ...\n",
       "95  0.077340 -1.368190\n",
       "96 -0.343854 -1.021347\n",
       "97  0.043597 -0.873131\n",
       "98 -0.620001 -1.107263\n",
       "99  0.698032 -0.389873\n",
       "\n",
       "[100 rows x 2 columns]"
      ]
     },
     "execution_count": 167,
     "metadata": {},
     "output_type": "execute_result"
    }
   ],
   "source": [
    "df"
   ]
  },
  {
   "cell_type": "code",
   "execution_count": 168,
   "id": "f42f961a",
   "metadata": {},
   "outputs": [
    {
     "data": {
      "image/png": "[encoded data removed]",
      "text/plain": [
       "<Figure size 432x432 with 3 Axes>"
      ]
     },
     "metadata": {
      "needs_background": "light"
     },
     "output_type": "display_data"
    }
   ],
   "source": [
    "sns.jointplot(x='x', y='y', data=df);"
   ]
  },
  {
   "cell_type": "markdown",
   "id": "df798d98",
   "metadata": {},
   "source": [
    "It seems linear with no indication on outliers. "
   ]
  },
  {
   "cell_type": "markdown",
   "id": "888a8423",
   "metadata": {},
   "source": [
    "Outlier is an observation of data that does not fit the rest of the data. An outlier is a point for which $y_i$ is far from the expected range predicted by the fit of the model. This raises the question of whether it is representative of the population."
   ]
  },
  {
   "cell_type": "markdown",
   "id": "d0365cc1",
   "metadata": {},
   "source": [
    "(e) Fit a least squares linear model to predict $y$ using $x$. Comment on the model obtained. How do $\\hat{\\beta_0}$ and\n",
    "$\\hat{\\beta_1}$ compare to $\\beta_0$ and\n",
    "$\\beta_1$?"
   ]
  },
  {
   "cell_type": "code",
   "execution_count": 169,
   "id": "63d1a504",
   "metadata": {},
   "outputs": [
    {
     "data": {
      "text/html": [
       "<table class=\"simpletable\">\n",
       "<caption>OLS Regression Results</caption>\n",
       "<tr>\n",
       "  <th>Dep. Variable:</th>            <td>y</td>        <th>  R-squared:         </th> <td>   0.800</td>\n",
       "</tr>\n",
       "<tr>\n",
       "  <th>Model:</th>                   <td>OLS</td>       <th>  Adj. R-squared:    </th> <td>   0.798</td>\n",
       "</tr>\n",
       "<tr>\n",
       "  <th>Method:</th>             <td>Least Squares</td>  <th>  F-statistic:       </th> <td>   391.4</td>\n",
       "</tr>\n",
       "<tr>\n",
       "  <th>Date:</th>             <td>Tue, 27 Sep 2022</td> <th>  Prob (F-statistic):</th> <td>5.39e-36</td>\n",
       "</tr>\n",
       "<tr>\n",
       "  <th>Time:</th>                 <td>09:25:10</td>     <th>  Log-Likelihood:    </th> <td>  4.1908</td>\n",
       "</tr>\n",
       "<tr>\n",
       "  <th>No. Observations:</th>      <td>   100</td>      <th>  AIC:               </th> <td>  -4.382</td>\n",
       "</tr>\n",
       "<tr>\n",
       "  <th>Df Residuals:</th>          <td>    98</td>      <th>  BIC:               </th> <td>  0.8288</td>\n",
       "</tr>\n",
       "<tr>\n",
       "  <th>Df Model:</th>              <td>     1</td>      <th>                     </th>     <td> </td>   \n",
       "</tr>\n",
       "<tr>\n",
       "  <th>Covariance Type:</th>      <td>nonrobust</td>    <th>                     </th>     <td> </td>   \n",
       "</tr>\n",
       "</table>\n",
       "<table class=\"simpletable\">\n",
       "<tr>\n",
       "      <td></td>         <th>coef</th>     <th>std err</th>      <th>t</th>      <th>P>|t|</th>  <th>[0.025</th>    <th>0.975]</th>  \n",
       "</tr>\n",
       "<tr>\n",
       "  <th>Intercept</th> <td>   -0.9632</td> <td>    0.023</td> <td>  -40.999</td> <td> 0.000</td> <td>   -1.010</td> <td>   -0.917</td>\n",
       "</tr>\n",
       "<tr>\n",
       "  <th>x</th>         <td>    0.5239</td> <td>    0.026</td> <td>   19.783</td> <td> 0.000</td> <td>    0.471</td> <td>    0.576</td>\n",
       "</tr>\n",
       "</table>\n",
       "<table class=\"simpletable\">\n",
       "<tr>\n",
       "  <th>Omnibus:</th>       <td> 0.898</td> <th>  Durbin-Watson:     </th> <td>   2.157</td>\n",
       "</tr>\n",
       "<tr>\n",
       "  <th>Prob(Omnibus):</th> <td> 0.638</td> <th>  Jarque-Bera (JB):  </th> <td>   0.561</td>\n",
       "</tr>\n",
       "<tr>\n",
       "  <th>Skew:</th>          <td>-0.172</td> <th>  Prob(JB):          </th> <td>   0.755</td>\n",
       "</tr>\n",
       "<tr>\n",
       "  <th>Kurtosis:</th>      <td> 3.127</td> <th>  Cond. No.          </th> <td>    1.15</td>\n",
       "</tr>\n",
       "</table><br/><br/>Notes:<br/>[1] Standard Errors assume that the covariance matrix of the errors is correctly specified."
      ],
      "text/plain": [
       "<class 'statsmodels.iolib.summary.Summary'>\n",
       "\"\"\"\n",
       "                            OLS Regression Results                            \n",
       "==============================================================================\n",
       "Dep. Variable:                      y   R-squared:                       0.800\n",
       "Model:                            OLS   Adj. R-squared:                  0.798\n",
       "Method:                 Least Squares   F-statistic:                     391.4\n",
       "Date:                Tue, 27 Sep 2022   Prob (F-statistic):           5.39e-36\n",
       "Time:                        09:25:10   Log-Likelihood:                 4.1908\n",
       "No. Observations:                 100   AIC:                            -4.382\n",
       "Df Residuals:                      98   BIC:                            0.8288\n",
       "Df Model:                           1                                         \n",
       "Covariance Type:            nonrobust                                         \n",
       "==============================================================================\n",
       "                 coef    std err          t      P>|t|      [0.025      0.975]\n",
       "------------------------------------------------------------------------------\n",
       "Intercept     -0.9632      0.023    -40.999      0.000      -1.010      -0.917\n",
       "x              0.5239      0.026     19.783      0.000       0.471       0.576\n",
       "==============================================================================\n",
       "Omnibus:                        0.898   Durbin-Watson:                   2.157\n",
       "Prob(Omnibus):                  0.638   Jarque-Bera (JB):                0.561\n",
       "Skew:                          -0.172   Prob(JB):                        0.755\n",
       "Kurtosis:                       3.127   Cond. No.                         1.15\n",
       "==============================================================================\n",
       "\n",
       "Notes:\n",
       "[1] Standard Errors assume that the covariance matrix of the errors is correctly specified.\n",
       "\"\"\""
      ]
     },
     "execution_count": 169,
     "metadata": {},
     "output_type": "execute_result"
    }
   ],
   "source": [
    "reg = smf.ols('y ~ x', df).fit()\n",
    "reg.summary()"
   ]
  },
  {
   "cell_type": "code",
   "execution_count": 170,
   "id": "f572374c",
   "metadata": {},
   "outputs": [
    {
     "data": {
      "text/html": [
       "<div>\n",
       "<style scoped>\n",
       "    .dataframe tbody tr th:only-of-type {\n",
       "        vertical-align: middle;\n",
       "    }\n",
       "\n",
       "    .dataframe tbody tr th {\n",
       "        vertical-align: top;\n",
       "    }\n",
       "\n",
       "    .dataframe thead th {\n",
       "        text-align: right;\n",
       "    }\n",
       "</style>\n",
       "<table border=\"1\" class=\"dataframe\">\n",
       "  <thead>\n",
       "    <tr style=\"text-align: right;\">\n",
       "      <th></th>\n",
       "      <th>0</th>\n",
       "      <th>1</th>\n",
       "    </tr>\n",
       "  </thead>\n",
       "  <tbody>\n",
       "    <tr>\n",
       "      <th>Intercept</th>\n",
       "      <td>-1.009870</td>\n",
       "      <td>-0.916623</td>\n",
       "    </tr>\n",
       "    <tr>\n",
       "      <th>x</th>\n",
       "      <td>0.471307</td>\n",
       "      <td>0.576407</td>\n",
       "    </tr>\n",
       "  </tbody>\n",
       "</table>\n",
       "</div>"
      ],
      "text/plain": [
       "                  0         1\n",
       "Intercept -1.009870 -0.916623\n",
       "x          0.471307  0.576407"
      ]
     },
     "execution_count": 170,
     "metadata": {},
     "output_type": "execute_result"
    }
   ],
   "source": [
    "reg.conf_int(alpha=0.05, cols=None)"
   ]
  },
  {
   "cell_type": "markdown",
   "id": "76577e20",
   "metadata": {},
   "source": [
    "The coefficients of the regression are similar to the \"true\" values, although they are not equal (naturally). Here, $\\hat{\\beta_0}$ and $\\hat{\\beta_1}$ are -0.9632 and 0.5239 respectively."
   ]
  },
  {
   "cell_type": "markdown",
   "id": "515ff152",
   "metadata": {},
   "source": [
    "**Another Method**"
   ]
  },
  {
   "cell_type": "code",
   "execution_count": 171,
   "id": "6ac91acb",
   "metadata": {},
   "outputs": [],
   "source": [
    "import statsmodels.api as sm # To use statsmodel"
   ]
  },
  {
   "cell_type": "code",
   "execution_count": 172,
   "id": "664cafe9",
   "metadata": {},
   "outputs": [
    {
     "name": "stderr",
     "output_type": "stream",
     "text": [
      "c:\\users\\charitha\\appdata\\local\\programs\\python\\python39\\lib\\site-packages\\statsmodels\\tsa\\tsatools.py:142: FutureWarning: In a future version of pandas all arguments of concat except for the argument 'objs' will be keyword-only\n",
      "  x = pd.concat(x[::order], 1)\n"
     ]
    },
    {
     "data": {
      "text/html": [
       "<table class=\"simpletable\">\n",
       "<caption>OLS Regression Results</caption>\n",
       "<tr>\n",
       "  <th>Dep. Variable:</th>            <td>y</td>        <th>  R-squared:         </th> <td>   0.800</td>\n",
       "</tr>\n",
       "<tr>\n",
       "  <th>Model:</th>                   <td>OLS</td>       <th>  Adj. R-squared:    </th> <td>   0.798</td>\n",
       "</tr>\n",
       "<tr>\n",
       "  <th>Method:</th>             <td>Least Squares</td>  <th>  F-statistic:       </th> <td>   391.4</td>\n",
       "</tr>\n",
       "<tr>\n",
       "  <th>Date:</th>             <td>Tue, 27 Sep 2022</td> <th>  Prob (F-statistic):</th> <td>5.39e-36</td>\n",
       "</tr>\n",
       "<tr>\n",
       "  <th>Time:</th>                 <td>09:25:10</td>     <th>  Log-Likelihood:    </th> <td>  4.1908</td>\n",
       "</tr>\n",
       "<tr>\n",
       "  <th>No. Observations:</th>      <td>   100</td>      <th>  AIC:               </th> <td>  -4.382</td>\n",
       "</tr>\n",
       "<tr>\n",
       "  <th>Df Residuals:</th>          <td>    98</td>      <th>  BIC:               </th> <td>  0.8288</td>\n",
       "</tr>\n",
       "<tr>\n",
       "  <th>Df Model:</th>              <td>     1</td>      <th>                     </th>     <td> </td>   \n",
       "</tr>\n",
       "<tr>\n",
       "  <th>Covariance Type:</th>      <td>nonrobust</td>    <th>                     </th>     <td> </td>   \n",
       "</tr>\n",
       "</table>\n",
       "<table class=\"simpletable\">\n",
       "<tr>\n",
       "    <td></td>       <th>coef</th>     <th>std err</th>      <th>t</th>      <th>P>|t|</th>  <th>[0.025</th>    <th>0.975]</th>  \n",
       "</tr>\n",
       "<tr>\n",
       "  <th>const</th> <td>   -0.9632</td> <td>    0.023</td> <td>  -40.999</td> <td> 0.000</td> <td>   -1.010</td> <td>   -0.917</td>\n",
       "</tr>\n",
       "<tr>\n",
       "  <th>x</th>     <td>    0.5239</td> <td>    0.026</td> <td>   19.783</td> <td> 0.000</td> <td>    0.471</td> <td>    0.576</td>\n",
       "</tr>\n",
       "</table>\n",
       "<table class=\"simpletable\">\n",
       "<tr>\n",
       "  <th>Omnibus:</th>       <td> 0.898</td> <th>  Durbin-Watson:     </th> <td>   2.157</td>\n",
       "</tr>\n",
       "<tr>\n",
       "  <th>Prob(Omnibus):</th> <td> 0.638</td> <th>  Jarque-Bera (JB):  </th> <td>   0.561</td>\n",
       "</tr>\n",
       "<tr>\n",
       "  <th>Skew:</th>          <td>-0.172</td> <th>  Prob(JB):          </th> <td>   0.755</td>\n",
       "</tr>\n",
       "<tr>\n",
       "  <th>Kurtosis:</th>      <td> 3.127</td> <th>  Cond. No.          </th> <td>    1.15</td>\n",
       "</tr>\n",
       "</table><br/><br/>Notes:<br/>[1] Standard Errors assume that the covariance matrix of the errors is correctly specified."
      ],
      "text/plain": [
       "<class 'statsmodels.iolib.summary.Summary'>\n",
       "\"\"\"\n",
       "                            OLS Regression Results                            \n",
       "==============================================================================\n",
       "Dep. Variable:                      y   R-squared:                       0.800\n",
       "Model:                            OLS   Adj. R-squared:                  0.798\n",
       "Method:                 Least Squares   F-statistic:                     391.4\n",
       "Date:                Tue, 27 Sep 2022   Prob (F-statistic):           5.39e-36\n",
       "Time:                        09:25:10   Log-Likelihood:                 4.1908\n",
       "No. Observations:                 100   AIC:                            -4.382\n",
       "Df Residuals:                      98   BIC:                            0.8288\n",
       "Df Model:                           1                                         \n",
       "Covariance Type:            nonrobust                                         \n",
       "==============================================================================\n",
       "                 coef    std err          t      P>|t|      [0.025      0.975]\n",
       "------------------------------------------------------------------------------\n",
       "const         -0.9632      0.023    -40.999      0.000      -1.010      -0.917\n",
       "x              0.5239      0.026     19.783      0.000       0.471       0.576\n",
       "==============================================================================\n",
       "Omnibus:                        0.898   Durbin-Watson:                   2.157\n",
       "Prob(Omnibus):                  0.638   Jarque-Bera (JB):                0.561\n",
       "Skew:                          -0.172   Prob(JB):                        0.755\n",
       "Kurtosis:                       3.127   Cond. No.                         1.15\n",
       "==============================================================================\n",
       "\n",
       "Notes:\n",
       "[1] Standard Errors assume that the covariance matrix of the errors is correctly specified.\n",
       "\"\"\""
      ]
     },
     "execution_count": 172,
     "metadata": {},
     "output_type": "execute_result"
    }
   ],
   "source": [
    "# Define data\n",
    "X = pd.DataFrame({'x': x})\n",
    "X = sm.add_constant(X) \n",
    "\n",
    "# Create model\n",
    "model = sm.OLS(y,X)\n",
    "\n",
    "# Fit regression model\n",
    "results = model.fit()\n",
    "\n",
    "# Print results\n",
    "results.summary()"
   ]
  },
  {
   "cell_type": "markdown",
   "id": "0a75b4be",
   "metadata": {},
   "source": [
    "Most regression models include a constant term (i.e., an \"intercept\"), since this ensures that the model will be unbiased, in other words, the mean of the residuals will be zero. The reason for this is that it takes care of the bias in the data (a constant difference which is there for all observations)"
   ]
  },
  {
   "cell_type": "markdown",
   "id": "2115982e",
   "metadata": {},
   "source": [
    "(f) Repeat (a)–(e) after modifying the data generation process in such a way that there is less noise in the data. The model should remain the same. You can do this by decreasing the variance\n",
    "of the normal distribution used to generate the error term in (b). Describe your results."
   ]
  },
  {
   "cell_type": "code",
   "execution_count": 174,
   "id": "a627293a",
   "metadata": {},
   "outputs": [
    {
     "data": {
      "text/plain": [
       "<seaborn.axisgrid.JointGrid at 0x1f4af562460>"
      ]
     },
     "execution_count": 174,
     "metadata": {},
     "output_type": "execute_result"
    },
    {
     "data": {
      "image/png": "[encoded data removed]",
      "text/plain": [
       "<Figure size 432x432 with 3 Axes>"
      ]
     },
     "metadata": {
      "needs_background": "light"
     },
     "output_type": "display_data"
    }
   ],
   "source": [
    "x = np.random.normal(size=100)\n",
    "eps = np.random.normal(scale = 0.01, size=100)\n",
    "y = -1 + .5*x + eps\n",
    "\n",
    "df = pd.DataFrame({'x': x, 'y': y})\n",
    "sns.jointplot(x='x', y='y', data=df)"
   ]
  },
  {
   "cell_type": "code",
   "execution_count": 175,
   "id": "3713e737",
   "metadata": {},
   "outputs": [
    {
     "data": {
      "text/html": [
       "<table class=\"simpletable\">\n",
       "<caption>OLS Regression Results</caption>\n",
       "<tr>\n",
       "  <th>Dep. Variable:</th>            <td>y</td>        <th>  R-squared:         </th> <td>   1.000</td> \n",
       "</tr>\n",
       "<tr>\n",
       "  <th>Model:</th>                   <td>OLS</td>       <th>  Adj. R-squared:    </th> <td>   1.000</td> \n",
       "</tr>\n",
       "<tr>\n",
       "  <th>Method:</th>             <td>Least Squares</td>  <th>  F-statistic:       </th> <td>2.185e+05</td>\n",
       "</tr>\n",
       "<tr>\n",
       "  <th>Date:</th>             <td>Tue, 27 Sep 2022</td> <th>  Prob (F-statistic):</th> <td>6.80e-166</td>\n",
       "</tr>\n",
       "<tr>\n",
       "  <th>Time:</th>                 <td>09:25:10</td>     <th>  Log-Likelihood:    </th> <td>  312.52</td> \n",
       "</tr>\n",
       "<tr>\n",
       "  <th>No. Observations:</th>      <td>   100</td>      <th>  AIC:               </th> <td>  -621.0</td> \n",
       "</tr>\n",
       "<tr>\n",
       "  <th>Df Residuals:</th>          <td>    98</td>      <th>  BIC:               </th> <td>  -615.8</td> \n",
       "</tr>\n",
       "<tr>\n",
       "  <th>Df Model:</th>              <td>     1</td>      <th>                     </th>     <td> </td>    \n",
       "</tr>\n",
       "<tr>\n",
       "  <th>Covariance Type:</th>      <td>nonrobust</td>    <th>                     </th>     <td> </td>    \n",
       "</tr>\n",
       "</table>\n",
       "<table class=\"simpletable\">\n",
       "<tr>\n",
       "      <td></td>         <th>coef</th>     <th>std err</th>      <th>t</th>      <th>P>|t|</th>  <th>[0.025</th>    <th>0.975]</th>  \n",
       "</tr>\n",
       "<tr>\n",
       "  <th>Intercept</th> <td>   -1.0002</td> <td>    0.001</td> <td> -931.475</td> <td> 0.000</td> <td>   -1.002</td> <td>   -0.998</td>\n",
       "</tr>\n",
       "<tr>\n",
       "  <th>x</th>         <td>    0.4994</td> <td>    0.001</td> <td>  467.445</td> <td> 0.000</td> <td>    0.497</td> <td>    0.502</td>\n",
       "</tr>\n",
       "</table>\n",
       "<table class=\"simpletable\">\n",
       "<tr>\n",
       "  <th>Omnibus:</th>       <td> 0.426</td> <th>  Durbin-Watson:     </th> <td>   1.977</td>\n",
       "</tr>\n",
       "<tr>\n",
       "  <th>Prob(Omnibus):</th> <td> 0.808</td> <th>  Jarque-Bera (JB):  </th> <td>   0.121</td>\n",
       "</tr>\n",
       "<tr>\n",
       "  <th>Skew:</th>          <td>-0.045</td> <th>  Prob(JB):          </th> <td>   0.941</td>\n",
       "</tr>\n",
       "<tr>\n",
       "  <th>Kurtosis:</th>      <td> 3.145</td> <th>  Cond. No.          </th> <td>    1.01</td>\n",
       "</tr>\n",
       "</table><br/><br/>Notes:<br/>[1] Standard Errors assume that the covariance matrix of the errors is correctly specified."
      ],
      "text/plain": [
       "<class 'statsmodels.iolib.summary.Summary'>\n",
       "\"\"\"\n",
       "                            OLS Regression Results                            \n",
       "==============================================================================\n",
       "Dep. Variable:                      y   R-squared:                       1.000\n",
       "Model:                            OLS   Adj. R-squared:                  1.000\n",
       "Method:                 Least Squares   F-statistic:                 2.185e+05\n",
       "Date:                Tue, 27 Sep 2022   Prob (F-statistic):          6.80e-166\n",
       "Time:                        09:25:10   Log-Likelihood:                 312.52\n",
       "No. Observations:                 100   AIC:                            -621.0\n",
       "Df Residuals:                      98   BIC:                            -615.8\n",
       "Df Model:                           1                                         \n",
       "Covariance Type:            nonrobust                                         \n",
       "==============================================================================\n",
       "                 coef    std err          t      P>|t|      [0.025      0.975]\n",
       "------------------------------------------------------------------------------\n",
       "Intercept     -1.0002      0.001   -931.475      0.000      -1.002      -0.998\n",
       "x              0.4994      0.001    467.445      0.000       0.497       0.502\n",
       "==============================================================================\n",
       "Omnibus:                        0.426   Durbin-Watson:                   1.977\n",
       "Prob(Omnibus):                  0.808   Jarque-Bera (JB):                0.121\n",
       "Skew:                          -0.045   Prob(JB):                        0.941\n",
       "Kurtosis:                       3.145   Cond. No.                         1.01\n",
       "==============================================================================\n",
       "\n",
       "Notes:\n",
       "[1] Standard Errors assume that the covariance matrix of the errors is correctly specified.\n",
       "\"\"\""
      ]
     },
     "execution_count": 175,
     "metadata": {},
     "output_type": "execute_result"
    }
   ],
   "source": [
    "reg = smf.ols('y ~ x', df).fit()\n",
    "reg.summary()"
   ]
  },
  {
   "cell_type": "markdown",
   "id": "048acfb8",
   "metadata": {},
   "source": [
    "As expected, we have a better fit, a better confidence intervals, and a higher R-squared.\n",
    "\n",
    "Our model fits this data set better than the previous one that was generated from a noisier distribution."
   ]
  },
  {
   "cell_type": "markdown",
   "id": "e2607dfd",
   "metadata": {},
   "source": [
    "(g) Repeat (a)–(e) after modifying the data generation process in such a way that there is more noise in the data. The model\n",
    "should remain the same. You can do this by increasing\n",
    "the variance of the normal distribution used to generate the\n",
    "error term in (b). Describe your results"
   ]
  },
  {
   "cell_type": "code",
   "execution_count": 176,
   "id": "268222e2",
   "metadata": {},
   "outputs": [
    {
     "data": {
      "text/plain": [
       "<seaborn.axisgrid.JointGrid at 0x1f4af98b670>"
      ]
     },
     "execution_count": 176,
     "metadata": {},
     "output_type": "execute_result"
    },
    {
     "data": {
      "image/png": "[encoded data removed]",
      "text/plain": [
       "<Figure size 432x432 with 3 Axes>"
      ]
     },
     "metadata": {
      "needs_background": "light"
     },
     "output_type": "display_data"
    }
   ],
   "source": [
    "x = np.random.normal(size=100)\n",
    "eps = np.random.normal(scale = 1, size=100)\n",
    "y = -1 + .5*x + eps\n",
    "\n",
    "df = pd.DataFrame({'x': x, 'y': y})\n",
    "sns.jointplot(x='x', y='y', data=df)"
   ]
  },
  {
   "cell_type": "code",
   "execution_count": 177,
   "id": "db556f21",
   "metadata": {},
   "outputs": [
    {
     "data": {
      "text/html": [
       "<table class=\"simpletable\">\n",
       "<caption>OLS Regression Results</caption>\n",
       "<tr>\n",
       "  <th>Dep. Variable:</th>            <td>y</td>        <th>  R-squared:         </th> <td>   0.257</td>\n",
       "</tr>\n",
       "<tr>\n",
       "  <th>Model:</th>                   <td>OLS</td>       <th>  Adj. R-squared:    </th> <td>   0.250</td>\n",
       "</tr>\n",
       "<tr>\n",
       "  <th>Method:</th>             <td>Least Squares</td>  <th>  F-statistic:       </th> <td>   33.96</td>\n",
       "</tr>\n",
       "<tr>\n",
       "  <th>Date:</th>             <td>Tue, 27 Sep 2022</td> <th>  Prob (F-statistic):</th> <td>7.19e-08</td>\n",
       "</tr>\n",
       "<tr>\n",
       "  <th>Time:</th>                 <td>09:25:11</td>     <th>  Log-Likelihood:    </th> <td> -145.66</td>\n",
       "</tr>\n",
       "<tr>\n",
       "  <th>No. Observations:</th>      <td>   100</td>      <th>  AIC:               </th> <td>   295.3</td>\n",
       "</tr>\n",
       "<tr>\n",
       "  <th>Df Residuals:</th>          <td>    98</td>      <th>  BIC:               </th> <td>   300.5</td>\n",
       "</tr>\n",
       "<tr>\n",
       "  <th>Df Model:</th>              <td>     1</td>      <th>                     </th>     <td> </td>   \n",
       "</tr>\n",
       "<tr>\n",
       "  <th>Covariance Type:</th>      <td>nonrobust</td>    <th>                     </th>     <td> </td>   \n",
       "</tr>\n",
       "</table>\n",
       "<table class=\"simpletable\">\n",
       "<tr>\n",
       "      <td></td>         <th>coef</th>     <th>std err</th>      <th>t</th>      <th>P>|t|</th>  <th>[0.025</th>    <th>0.975]</th>  \n",
       "</tr>\n",
       "<tr>\n",
       "  <th>Intercept</th> <td>   -0.8802</td> <td>    0.105</td> <td>   -8.375</td> <td> 0.000</td> <td>   -1.089</td> <td>   -0.672</td>\n",
       "</tr>\n",
       "<tr>\n",
       "  <th>x</th>         <td>    0.5903</td> <td>    0.101</td> <td>    5.828</td> <td> 0.000</td> <td>    0.389</td> <td>    0.791</td>\n",
       "</tr>\n",
       "</table>\n",
       "<table class=\"simpletable\">\n",
       "<tr>\n",
       "  <th>Omnibus:</th>       <td> 3.633</td> <th>  Durbin-Watson:     </th> <td>   1.972</td>\n",
       "</tr>\n",
       "<tr>\n",
       "  <th>Prob(Omnibus):</th> <td> 0.163</td> <th>  Jarque-Bera (JB):  </th> <td>   3.566</td>\n",
       "</tr>\n",
       "<tr>\n",
       "  <th>Skew:</th>          <td> 0.192</td> <th>  Prob(JB):          </th> <td>   0.168</td>\n",
       "</tr>\n",
       "<tr>\n",
       "  <th>Kurtosis:</th>      <td> 3.842</td> <th>  Cond. No.          </th> <td>    1.07</td>\n",
       "</tr>\n",
       "</table><br/><br/>Notes:<br/>[1] Standard Errors assume that the covariance matrix of the errors is correctly specified."
      ],
      "text/plain": [
       "<class 'statsmodels.iolib.summary.Summary'>\n",
       "\"\"\"\n",
       "                            OLS Regression Results                            \n",
       "==============================================================================\n",
       "Dep. Variable:                      y   R-squared:                       0.257\n",
       "Model:                            OLS   Adj. R-squared:                  0.250\n",
       "Method:                 Least Squares   F-statistic:                     33.96\n",
       "Date:                Tue, 27 Sep 2022   Prob (F-statistic):           7.19e-08\n",
       "Time:                        09:25:11   Log-Likelihood:                -145.66\n",
       "No. Observations:                 100   AIC:                             295.3\n",
       "Df Residuals:                      98   BIC:                             300.5\n",
       "Df Model:                           1                                         \n",
       "Covariance Type:            nonrobust                                         \n",
       "==============================================================================\n",
       "                 coef    std err          t      P>|t|      [0.025      0.975]\n",
       "------------------------------------------------------------------------------\n",
       "Intercept     -0.8802      0.105     -8.375      0.000      -1.089      -0.672\n",
       "x              0.5903      0.101      5.828      0.000       0.389       0.791\n",
       "==============================================================================\n",
       "Omnibus:                        3.633   Durbin-Watson:                   1.972\n",
       "Prob(Omnibus):                  0.163   Jarque-Bera (JB):                3.566\n",
       "Skew:                           0.192   Prob(JB):                        0.168\n",
       "Kurtosis:                       3.842   Cond. No.                         1.07\n",
       "==============================================================================\n",
       "\n",
       "Notes:\n",
       "[1] Standard Errors assume that the covariance matrix of the errors is correctly specified.\n",
       "\"\"\""
      ]
     },
     "execution_count": 177,
     "metadata": {},
     "output_type": "execute_result"
    }
   ],
   "source": [
    "reg = smf.ols('y ~ x', df).fit()\n",
    "reg.summary()"
   ]
  },
  {
   "cell_type": "markdown",
   "id": "71bf23bd",
   "metadata": {},
   "source": [
    "Now we have a much worse fit. The R-squared of just 0.257 and wider confidence intervals."
   ]
  },
  {
   "cell_type": "code",
   "execution_count": 178,
   "id": "ba7d2cd5",
   "metadata": {},
   "outputs": [
    {
     "data": {
      "text/html": [
       "<div>\n",
       "<style scoped>\n",
       "    .dataframe tbody tr th:only-of-type {\n",
       "        vertical-align: middle;\n",
       "    }\n",
       "\n",
       "    .dataframe tbody tr th {\n",
       "        vertical-align: top;\n",
       "    }\n",
       "\n",
       "    .dataframe thead th {\n",
       "        text-align: right;\n",
       "    }\n",
       "</style>\n",
       "<table border=\"1\" class=\"dataframe\">\n",
       "  <thead>\n",
       "    <tr style=\"text-align: right;\">\n",
       "      <th></th>\n",
       "      <th>0</th>\n",
       "      <th>1</th>\n",
       "    </tr>\n",
       "  </thead>\n",
       "  <tbody>\n",
       "    <tr>\n",
       "      <th>Intercept</th>\n",
       "      <td>-1.088787</td>\n",
       "      <td>-0.671654</td>\n",
       "    </tr>\n",
       "    <tr>\n",
       "      <th>x</th>\n",
       "      <td>0.389282</td>\n",
       "      <td>0.791316</td>\n",
       "    </tr>\n",
       "  </tbody>\n",
       "</table>\n",
       "</div>"
      ],
      "text/plain": [
       "                  0         1\n",
       "Intercept -1.088787 -0.671654\n",
       "x          0.389282  0.791316"
      ]
     },
     "execution_count": 178,
     "metadata": {},
     "output_type": "execute_result"
    }
   ],
   "source": [
    "reg.conf_int(alpha=0.05, cols=None)"
   ]
  },
  {
   "cell_type": "markdown",
   "id": "a9a8cc20",
   "metadata": {},
   "source": [
    "**Confidence Intervals**"
   ]
  },
  {
   "cell_type": "markdown",
   "id": "56490310",
   "metadata": {},
   "source": [
    "Confidence, in statistics, is another way to describe probability. For example, if you construct a confidence interval with a 95% confidence level, you are confident that 95 out of 100 times the estimate will fall between the upper and lower values specified by the confidence interval."
   ]
  },
  {
   "cell_type": "markdown",
   "id": "6eeee7c0",
   "metadata": {},
   "source": [
    "We most likely use a two-tailed interval unless we do a one-tailed t-test. For a two-tailed interval, divide your alpha by two to get the alpha value for the upper and lower tails."
   ]
  },
  {
   "cell_type": "markdown",
   "id": "5bf6fc1a",
   "metadata": {},
   "source": [
    "**Differences among these evaluation metrics**"
   ]
  },
  {
   "attachments": {
    "eq1.PNG": {
     "image/png": "[encoded data removed]"
    }
   },
   "cell_type": "markdown",
   "id": "eae53a42",
   "metadata": {},
   "source": [
    "![eq1.PNG](attachment:eq1.PNG)"
   ]
  },
  {
   "cell_type": "markdown",
   "id": "8226e95b",
   "metadata": {},
   "source": [
    "Mean Squared Error represents the root of the average of squared difference between the original and predicted values in the data set. It measures the standard deviation of residuals."
   ]
  },
  {
   "attachments": {
    "eq2.PNG": {
     "image/png": "[encoded data removed]"
    }
   },
   "cell_type": "markdown",
   "id": "01d2437c",
   "metadata": {},
   "source": [
    "![eq2.PNG](attachment:eq2.PNG)"
   ]
  },
  {
   "cell_type": "markdown",
   "id": "409be696",
   "metadata": {},
   "source": [
    "The coefficient of determination or $R^2$ represents the proportion of the variance in the dependent variable which is explained by the linear regression model. It is a scale-free score i.e. irrespective of the values being small or large, the value of $R^2$ will be less than one."
   ]
  },
  {
   "attachments": {
    "eq3.PNG": {
     "image/png": "[encoded data removed]"
    }
   },
   "cell_type": "markdown",
   "id": "50b025dd",
   "metadata": {},
   "source": [
    "![eq3.PNG](attachment:eq3.PNG)"
   ]
  },
  {
   "cell_type": "markdown",
   "id": "e9106b26",
   "metadata": {},
   "source": [
    "Adjusted $R^2$ is a modified version of $R^2$, and it is adjusted for the number of independent variables in the model, and it will always be less than or equal to $R^2$.In the formula below $n$ is the number of observations in the data and $k$ is the number of the independent variables in the data."
   ]
  },
  {
   "cell_type": "markdown",
   "id": "ed9252db",
   "metadata": {},
   "source": [
    "* $R^2$ & Adjusted $R^2$ are used for explaining how well the independent variables in the linear regression model explains the variability in the dependent variable. $R^2$ value always increases with the addition of the independent variables which might lead to the addition of the redundant variables in our model. However, the adjusted $R^2$ solves this problem."
   ]
  },
  {
   "cell_type": "markdown",
   "id": "c3640297",
   "metadata": {},
   "source": [
    "* The RMSE tells how well a regression model can predict the value of a response variable in absolute terms while $R^2$ tells how well the predictor variables can explain the variation in the response variable.\n",
    "\n"
   ]
  },
  {
   "cell_type": "markdown",
   "id": "438bb6cb",
   "metadata": {},
   "source": [
    "* $R^2$’s drawback:\n",
    "It does have one big drawback, though. In multiple regression as you add predictors, it will get bigger. Because of the way it’s calculated, it can never go down with more predictors. That raises a few issues.\n",
    "\n",
    "First $R^2$ will go up even if those predictors don’t help predict $Y$. Sure, it won’t go up a lot, but it will gradually get bigger with more predictors. And model complexity isn’t a good thing. If we’re going to add more predictors, we want to make sure they’re helpful.\n",
    "\n",
    "\n",
    "* Adjusted $R^2$ does just what is says: it adjusts the $R^2$ value. This adjustment is a penalty that is subtracted from R². The size of the penalty is based on the number of predictors and the sample size.\n",
    "\n",
    "If you add a predictor that is useful in predicting $Y$, the adjusted $R^2$ will increase because the penalty will be smaller than the $R^2$ increase. But if you add a predictor that is not useful in predicting $Y$, the adjusted $R^2$ will decrease because the penalty will be a bigger negative than the small increase.\n",
    "In fact, while $R^2$ cannot be below 0, adjusted $R^2$ can. So it’s a super-useful way to tell if adding predictors to a model is adding useless complexity."
   ]
  },
  {
   "cell_type": "markdown",
   "id": "da289ec1",
   "metadata": {},
   "source": [
    "(2): In this exercise, you will implement KNN algorithm and compute Root Mean Square Error (RMSE) for different $k$ values in (a) and (b). The first steps are already completed. (**2 pts**)"
   ]
  },
  {
   "cell_type": "code",
   "execution_count": 188,
   "id": "bdb29b44",
   "metadata": {},
   "outputs": [],
   "source": [
    "import pandas as pd\n",
    "df = pd.read_csv('train.csv')"
   ]
  },
  {
   "cell_type": "markdown",
   "id": "422945ed",
   "metadata": {},
   "source": [
    "Impute missing values"
   ]
  },
  {
   "cell_type": "code",
   "execution_count": 189,
   "id": "e339e80d",
   "metadata": {},
   "outputs": [],
   "source": [
    "df.isnull().sum()\n",
    "mean = df['Item_Weight'].mean()\n",
    "df['Item_Weight'].fillna(mean, inplace =True)\n",
    "\n",
    "mode = df['Outlet_Size'].mode() \n",
    "df['Outlet_Size'].fillna(mode[0], inplace =True)"
   ]
  },
  {
   "cell_type": "markdown",
   "id": "840e2fca",
   "metadata": {},
   "source": [
    "Change Categorical variables to dummy variables"
   ]
  },
  {
   "cell_type": "code",
   "execution_count": 190,
   "id": "ac888906",
   "metadata": {},
   "outputs": [],
   "source": [
    "df.drop(['Item_Identifier', 'Outlet_Identifier'], axis=1, inplace=True)\n",
    "df = pd.get_dummies(df)"
   ]
  },
  {
   "cell_type": "markdown",
   "id": "26e14c72",
   "metadata": {},
   "source": [
    "Split train and test data"
   ]
  },
  {
   "cell_type": "code",
   "execution_count": 191,
   "id": "d2005738",
   "metadata": {},
   "outputs": [],
   "source": [
    "from sklearn.model_selection import train_test_split\n",
    "train , test = train_test_split(df, test_size = 0.3)\n",
    "\n",
    "x_train = train.drop('Item_Outlet_Sales', axis=1)\n",
    "y_train = train['Item_Outlet_Sales']\n",
    "\n",
    "x_test = test.drop('Item_Outlet_Sales', axis = 1)\n",
    "y_test = test['Item_Outlet_Sales']"
   ]
  },
  {
   "cell_type": "markdown",
   "id": "a14631c9",
   "metadata": {},
   "source": [
    "Scale the features"
   ]
  },
  {
   "cell_type": "code",
   "execution_count": 192,
   "id": "3e042df3",
   "metadata": {},
   "outputs": [],
   "source": [
    "from sklearn.preprocessing import MinMaxScaler\n",
    "scaler = MinMaxScaler(feature_range=(0, 1))\n",
    "\n",
    "x_train_scaled = scaler.fit_transform(x_train)\n",
    "x_train = pd.DataFrame(x_train_scaled)\n",
    "\n",
    "x_test_scaled = scaler.fit_transform(x_test)\n",
    "x_test = pd.DataFrame(x_test_scaled)"
   ]
  },
  {
   "cell_type": "code",
   "execution_count": 193,
   "id": "549c52d9",
   "metadata": {},
   "outputs": [],
   "source": [
    "#import required packages\n",
    "from sklearn import neighbors\n",
    "from sklearn.metrics import mean_squared_error \n",
    "from math import sqrt\n",
    "import matplotlib.pyplot as plt\n",
    "%matplotlib inline"
   ]
  },
  {
   "cell_type": "markdown",
   "id": "00ae5e3c",
   "metadata": {},
   "source": [
    "(a) Implement KNN regression and compute the RMSE for a range of values of $k$ from 1 to 25. You may first fit the regression model into x_train, y_train, and then make predictions on the test set using x_test inorder to calculate the RMSE between actual y_test and predictions.  "
   ]
  },
  {
   "cell_type": "code",
   "execution_count": 194,
   "id": "801f61fb",
   "metadata": {},
   "outputs": [
    {
     "name": "stdout",
     "output_type": "stream",
     "text": [
      "RMSE value for k=  1 is: 1631.9332623127184\n",
      "RMSE value for k=  2 is: 1396.548706307395\n",
      "RMSE value for k=  3 is: 1308.8989589026753\n",
      "RMSE value for k=  4 is: 1271.9798771171284\n",
      "RMSE value for k=  5 is: 1249.9931257220321\n",
      "RMSE value for k=  6 is: 1227.0647690893957\n",
      "RMSE value for k=  7 is: 1218.145552464537\n",
      "RMSE value for k=  8 is: 1207.3195698428153\n",
      "RMSE value for k=  9 is: 1208.529519010589\n",
      "RMSE value for k=  10 is: 1206.756800572614\n",
      "RMSE value for k=  11 is: 1205.3556829788483\n",
      "RMSE value for k=  12 is: 1202.1399224505362\n",
      "RMSE value for k=  13 is: 1205.461243062814\n",
      "RMSE value for k=  14 is: 1213.6976738180501\n",
      "RMSE value for k=  15 is: 1218.3949593358072\n",
      "RMSE value for k=  16 is: 1222.3750541740642\n",
      "RMSE value for k=  17 is: 1226.5394171291744\n",
      "RMSE value for k=  18 is: 1235.3895657286107\n",
      "RMSE value for k=  19 is: 1238.617192288228\n",
      "RMSE value for k=  20 is: 1246.8860547852435\n",
      "RMSE value for k=  21 is: 1250.0112755957412\n",
      "RMSE value for k=  22 is: 1251.6588150539244\n",
      "RMSE value for k=  23 is: 1255.23990932757\n",
      "RMSE value for k=  24 is: 1256.687320995695\n",
      "RMSE value for k=  25 is: 1258.2298915315007\n"
     ]
    }
   ],
   "source": [
    "rmse_val = [] #to store rmse values for different k\n",
    "for K in range(25):\n",
    "    K = K+1\n",
    "    model = neighbors.KNeighborsRegressor(n_neighbors = K)\n",
    "\n",
    "    model.fit(x_train, y_train)  #fit the model\n",
    "    pred=model.predict(x_test) #make prediction on test set\n",
    "    error = sqrt(mean_squared_error(y_test,pred)) #calculate rmse\n",
    "    rmse_val.append(error) #store rmse values\n",
    "    print('RMSE value for k= ' , K , 'is:', error)"
   ]
  },
  {
   "cell_type": "markdown",
   "id": "5ff11ed9",
   "metadata": {},
   "source": [
    "(b) Plot the RMSE values against $k$ values."
   ]
  },
  {
   "cell_type": "code",
   "execution_count": 195,
   "id": "9e3ba8f4",
   "metadata": {},
   "outputs": [
    {
     "data": {
      "text/plain": [
       "<AxesSubplot:>"
      ]
     },
     "execution_count": 195,
     "metadata": {},
     "output_type": "execute_result"
    },
    {
     "data": {
      "image/png": "[encoded data removed]",
      "text/plain": [
       "<Figure size 432x288 with 1 Axes>"
      ]
     },
     "metadata": {
      "needs_background": "light"
     },
     "output_type": "display_data"
    }
   ],
   "source": [
    "#plotting the rmse values against k values\n",
    "curve = pd.DataFrame(rmse_val) #elbow curve \n",
    "curve.plot()"
   ]
  },
  {
   "cell_type": "markdown",
   "id": "ba9ea0c0",
   "metadata": {},
   "source": [
    "We can select the $k$ value which gives the lowest root mean square error from the elbow plot."
   ]
  },
  {
   "cell_type": "code",
   "execution_count": null,
   "id": "b4587afa",
   "metadata": {},
   "outputs": [],
   "source": []
  }
 ],
 "metadata": {
  "kernelspec": {
   "display_name": "Python 3.9.12 64-bit",
   "language": "python",
   "name": "python3"
  },
  "language_info": {
   "codemirror_mode": {
    "name": "ipython",
    "version": 3
   },
   "file_extension": ".py",
   "mimetype": "text/x-python",
   "name": "python",
   "nbconvert_exporter": "python",
   "pygments_lexer": "ipython3",
   "version": "3.9.12"
  },
  "vscode": {
   "interpreter": {
    "hash": "b0fa6594d8f4cbf19f97940f81e996739fb7646882a419484c72d19e05852a7e"
   }
  }
 },
 "nbformat": 4,
 "nbformat_minor": 5
}
