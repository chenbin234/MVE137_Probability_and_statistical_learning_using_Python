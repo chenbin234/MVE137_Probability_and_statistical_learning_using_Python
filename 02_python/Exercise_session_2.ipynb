{
 "cells": [
  {
   "cell_type": "markdown",
   "id": "66a26a3f",
   "metadata": {},
   "source": [
    "## Exersice 11: Random bits\n",
    "\n",
    "Suppose that we flip a fair coin $n$ times to obtain $n$ random bits.\n",
    "  Consider all $m= \\binom{n}{2}$ pairs of these bits and order them in some way.\n",
    "  Let $Y_{i}$ the ex-or of the $i$th pair of bits and let $Y=\\sum_{i=1}^{m} Y_{i}$\n",
    "  be the number of $Y_{i}$ that equal $1$.\n",
    "\n",
    "* Show that each $Y_{i}$ is a Bernoulli random variable with parameter $1/2$.\n",
    "* Argue that the $Y_{i}$ are not mutually independent. \n",
    "* Show that the $Y_{i}$ satisfy the property that $\\text{E}[Y_{i}Y_{j}]=\\text{E}[Y_{i}]\\text{E}[Y_{j}]$.\n",
    "* Find $\\text{Var}[Y]$\n",
    "* Use Chebyshev's inequality to establish a bound on $\\Pr\\left[ |Y-\\text{E}[Y]| \\geq n \\right]$\n",
    "\n",
    "### Solution:\n",
    "\n",
    "We first show that each $Y_{i}$ is a Bernoulli random variable with parameter $1/2$. Let $X_p, X_q \\sim \\text{Ber}(0.5) $ be the two bits that form $Y_{i} = \\text{XOR}[X_p,X_q]$. Then\n",
    "$$\n",
    "    \\Pr[Y_i = 0] = \\Pr[(X_p,X_q)= (1,1)] + \\Pr[(X_p,X_q)= (0,0)] = \\frac{1}{2}.\n",
    "$$\n",
    "Similiarly \n",
    "$$\n",
    "    \\Pr[Y_i = 1] = \\Pr[(X_p,X_q)= (1,0)] + \\Pr[(X_p,X_q)= (0,1)] = \\frac{1}{2}.\n",
    "$$\n",
    "Hence $Y_i \\sim \\text{Ber}(0.5)$\n",
    "\n",
    "Next we argue that they are not mutually independent. We could look at an example or we could just extend the notation slighlty. Let's change the notation to $Y_{ij} = \\text{XOR}[X_i,X_j]$ and study the three variables $Y_{ij}$, $Y_{jk}$, $Y_{ik}$ that are based on the three variables $X_i$, $X_j$, $X_k$. Suppose we know that\n",
    "$$\n",
    "    Y_{ij} = 1, Y_{jk} = 0\n",
    "$$\n",
    "From this we can conclude that $X_i \\not= X_j$ and $X_j = X_k$. But then we know for sure that $X_{i} \\not= X_{k}$ and thus\n",
    "$$\n",
    "    Y_{ik} = 1.\n",
    "$$\n",
    "If one thinks about this (or goes through all the different options) you can simplify this relationship by writing\n",
    "$$\n",
    "    Y_{ik} = \\text{XOR}(Y_{ij},Y_{jk}).\n",
    "$$\n",
    "Hence the $Y_{ik}$ are not mutually independent. \n",
    "\n",
    "We now move on to show that the property $\\text{E}[Y_{i}Y_{j}]=\\text{E}[Y_{i}]\\text{E}[Y_{j}]$ is satisfied. We first note that\n",
    "$$\n",
    "    \\text{E}[Y_{i}] = \\text{E}[Y_{j}] = 0.5 \\quad \\Rightarrow \\text{E}[Y_{i}]\\text{E}[Y_{j}] = 0.25.\n",
    "$$\n",
    "Keeping the notation from the last part, we first consider $Y_{ij}$ and $Y_{kl}$, where all $i$, $j$, $k$, and $l$ are unique. In this case $Y_{ij}$ and $Y_{kl}$ are independent and for this case $\\text{E}[Y_{i}Y_{j}]=\\text{E}[Y_{i}]\\text{E}[Y_{j}]$ is satisfied. Hence we only need to look at the case with $Y_{ij}$ and $Y_{jk}$. In this case\n",
    "$$\n",
    "    Y_{ij} Y_{jk} = \\text{XOR}[X_i,X_j] \\text{XOR}[X_j,X_k]. \n",
    "$$\n",
    " Looking at the above equation, what is required for $Y_{ij} Y_{jk} = 1$? The requirement is that $X_i, \\not= X_j$ and $X_j \\not= X_k$. We can sumamrise this as $X_i = X_k \\not= X_j$ and from this we can see that there are two possibilities ($X_i = X_k = 1$, $ X_j = 0$ and $X_i = X_k = 0$, $ X_j = 1$). Each of these events have probability $0.5^3$ and thus $\\Pr[Y_{ij} Y_{jk} = 1] = 2 \\cdot 0.5^3 = 0.25$. Since the only possible outcomes for $Y_{ij} Y_{jk}$ are $1$ and $0$ we thus get\n",
    "$$\n",
    "    \\text{E}[Y_{i}Y_{j}] = 0.25 \\cdot 1 + 0.75 \\cdot 0 = 0.25\n",
    "$$\n",
    "and as a consequence we have proven \n",
    "$$\n",
    "    \\text{E}[Y_{i}Y_{j}]=\\text{E}[Y_{i}]\\text{E}[Y_{j}].\n",
    "$$\n",
    "\n",
    "We now move on to the next task, finding the variance. We start by noting \n",
    "$$\n",
    "    \\text{Var}[Y] = \\text{E}[Y^2] - \\text{E}[Y]^2. \n",
    "$$\n",
    "By the linearity of expectation we have that \n",
    "$$\n",
    "    \\text{E}[Y] = \\sum_{i=1}^m \\text{E}[Y_i] = \\frac{m}{2}\n",
    "$$\n",
    "and\n",
    "$$\n",
    "    \\text{E}[Y^2] = \\sum_{i} \\sum_{j} \\text{E}[Y_i Y_j] = \\sum_{i} \\text{E}[Y_i^2] + \\sum_{i} \\sum_{j\\not=i} \\text{E}[Y_i Y_j] = \\{\\text{Last part}\\} = \\sum_{i} \\text{E}[Y_i^2] + \\sum_{i} \\sum_{j\\not=i} \\text{E}[Y_i] \\text{E}[Y_j] = \\sum_{i} \\text{E}[Y_i^2] + \\frac{1}{4} m (m-1).\n",
    "$$\n",
    "Since $Y_i$ is bernoulli, the variable $Y_i^2$ is also bernoulli ($Y_i = 1 \\Rightarrow Y_i^2 = 1$ and $Y_i = 0 \\Rightarrow Y_i^2 = 0$). Hence $\\text{E}[Y_i^2] = \\frac{m}{2}$. Putting in these reuslts we get\n",
    "$$\n",
    "    \\text{Var}[Y] = \\frac{m}{2} + \\frac{1}{4} m (m-1) - \\left( \\frac{m}{2} \\right)^2 = \\frac{m}{4}\n",
    "$$\n",
    "\n",
    "Last but not least, we generate the desired Chebyshev bound. Chebyshev's inequality says that\n",
    "$$\n",
    "    \\Pr[|X-\\text{E}[X]| \\geq a] \\leq \\frac{\\text{Var}[X]}{a^2}.\n",
    "$$\n",
    "Plugging in the desired $a = n$ and the calculated properties from above we get\n",
    "$$\n",
    "    \\Pr\\left[\\left|Y-\\frac{m}{2}\\right| \\geq n\\right] \\leq \\frac{m}{4 n^2} = \\frac{n(n-1)}{8 n^2} \\approx \\{ n \\gg 1\\} \\approx \\frac{1}{8}\n",
    "$$\n",
    "\n"
   ]
  },
  {
   "cell_type": "markdown",
   "id": "36eb650c",
   "metadata": {},
   "source": [
    "## Exersice 14: An unexpected outcome\n",
    "A casino is testing a new class of simple slot machines.\n",
    "In each game, the player puts in $1$ dollar and the slot machine is supposed to return \n",
    "either $3$ dollars to the player with probability $4/25$ or $100$ dollars with probability $1/200$\n",
    "or nothing with all remaining probability.\n",
    "Each game is independent of the other games.\n",
    "The casino has been surprised to find in testing that the machines have lost $10000$ dollars over the\n",
    "first million game.\n",
    "Derive a Chernoff bound for the probability of this event.\n",
    "You may want to write a **python** script to solve this exercise.\n",
    "\n",
    "**python**: Write a simulation estimating the probability of this event. Based on your Chernoff bound, how many instances of a million games do you think you need to generate? EDIT: MAKE IT $n=10^4$, $a=2 \\cdot 10^3$ ONLY FOR PYTHON PART\n",
    "\n",
    "### Solution:\n",
    "To summarise the process above, let $X_i$ be the outcome of game $i$. Then $\\Pr[X_i = 3] = \\frac{4}{25} = p$, $\\Pr[X_i = 100] = \\frac{1}{200} = q$, and $\\Pr[X_i = 0] = \\frac{107}{200} = 1- p - q$. The event that we would like to bound is\n",
    "$$\n",
    "    X-n \\geq a = 10^4,\n",
    "$$\n",
    "where $n = 10^6$ and\n",
    "$$\n",
    "    X = \\sum_{i=1}^n X_i.\n",
    "$$\n",
    "The MGF for $X_i$ is\n",
    "$$\n",
    "    M_{X_i}(t) = \\text{E}\\left[ e^{t X_i} \\right] = p e^{3t} + q e^{100 t} + (1-p-q) e^{0 t} = 1 + p \\left( e^{3t} - 1 \\right) + q \\left( e^{100t} - 1 \\right).\n",
    "$$\n",
    "The Chernoff bound states that\n",
    "$$\n",
    "    \\Pr[X \\geq n + a] \\leq \\min_{t > 0} \\frac{M_X(t)}{e^{t(n+a)}},\n",
    "$$\n",
    "and the function that we should minimise is thus\n",
    "$$\n",
    "    f(t) = \\left( 1 + p \\left( e^{3t} - 1 \\right) + q \\left( e^{100t} - 1 \\right) \\right)^n e^{-t(n+a)}.\n",
    "$$\n",
    "The derivative is \n",
    "$$\n",
    "    \\frac{\\partial f}{\\partial t}(t) = n \\left( 1 + p \\left( e^{3t} - 1 \\right) + q \\left( e^{100t} - 1 \\right) \\right)^{n-1} \\left( 3 p e^{3t} + 100 q e^{100t} \\right)  e^{-t(n+a)} + \\left( 1 + p \\left( e^{3t} - 1 \\right) + q \\left( e^{100t} - 1 \\right) \\right)^n e^{-t(n+a)} (-n - a)\n",
    "$$\n",
    "$$\n",
    "    \\frac{\\partial f}{\\partial t}(t) = \n",
    "    \\left( 1 + p \\left( e^{3t} - 1 \\right) + q \\left( e^{100t} - 1 \\right) \\right)^{n-1}\n",
    "    e^{-t(n+a)} \n",
    "    \\left( 3 n p e^{3t} + 100 q n e^{100t} - (n+a) \n",
    "    \\left( \n",
    "    1 + p \\left( e^{3t} - 1 \\right) + q \\left( e^{100t} - 1 \\right) \n",
    "    \\right)\n",
    "    \\right)\n",
    "$$\n",
    "and setting $\\frac{\\partial f}{\\partial t}(t) = 0$, we note that the first two factors are $> 0$. Hence this leads to\n",
    "$$\n",
    "    0 = \\left( 3 n p e^{3t} + 100 q n e^{100t} - (n+a) \n",
    "    \\left( \n",
    "    1 + p \\left( e^{3t} - 1 \\right) + q \\left( e^{100t} - 1 \\right) \n",
    "    \\right)\n",
    "    \\right)\n",
    "$$\n",
    "$$\n",
    "    \\Rightarrow 0 = \n",
    "    \\left( 2 - \\frac{a}{n} \\right) p e^{3t}\n",
    "    + \\left( 99 - \\frac{a}{n} \\right) q e^{100t}\n",
    "    - \\left( 1 + \\frac{a}{n} \\right) (1-p-q).\n",
    "$$\n",
    "We plug this equation into python and use the scipy.optimize.fsolve to find the root. We start by guessing $t=0$ and find the optimum $t$ and the corresponding chernoff bound"
   ]
  },
  {
   "cell_type": "code",
   "execution_count": 4,
   "id": "e84fda1c",
   "metadata": {},
   "outputs": [
    {
     "name": "stdout",
     "output_type": "stream",
     "text": [
      "t_opt = 0.000577932000003026, for which f(t_opt) = 0.0\n",
      "P(X - n ≥ a) ≤ 0.00015857024596588673\n"
     ]
    }
   ],
   "source": [
    "from scipy import optimize as opt\n",
    "from math import exp\n",
    "\n",
    "a = 10**4\n",
    "n = 10**6\n",
    "an = a/n\n",
    "p = 4./25.\n",
    "q = 1./200.\n",
    "\n",
    "def func(t):\n",
    "    return (2-an)*p*exp(3*t) + (99-an)*q*exp(100*t) - (1+an)*(1-p-q)\n",
    "\n",
    "t = opt.fsolve(func,1)\n",
    "t = t[0]\n",
    "\n",
    "print('t_opt = {}, for which f(t_opt) = {}'.format(t,func(t)))\n",
    "\n",
    "chernoff = ((1 + p*(exp(3*t)-1) + q*(exp(100*t) - 1) )*exp(-t*(n+a)/n))**n\n",
    "\n",
    "print('P(X - n ≥ a) ≤ {}'.format( chernoff ))"
   ]
  },
  {
   "cell_type": "markdown",
   "id": "400c281b",
   "metadata": {},
   "source": [
    "We now move on to write the python simulation. First we calculate the new bound based on $n=10^4$, $a=2 \\cdot 10^3$ where we get "
   ]
  },
  {
   "cell_type": "code",
   "execution_count": 6,
   "id": "51ac6e8d",
   "metadata": {},
   "outputs": [
    {
     "name": "stdout",
     "output_type": "stream",
     "text": [
      "t_opt = 0.0036390987290593024, for which f(t_opt) = 6.661338147750939e-16\n",
      "P(X - n ≥ a) ≤ 0.014459026588082981\n"
     ]
    }
   ],
   "source": [
    "a = 2*10**3\n",
    "n = 10**4\n",
    "an = a/n\n",
    "p = 4./25.\n",
    "q = 1./200.\n",
    "\n",
    "def func(t):\n",
    "    return (2-an)*p*exp(3*t) + (99-an)*q*exp(100*t) - (1+an)*(1-p-q)\n",
    "\n",
    "t = opt.fsolve(func,1)\n",
    "t = t[0]\n",
    "\n",
    "print('t_opt = {}, for which f(t_opt) = {}'.format(t,func(t)))\n",
    "\n",
    "chernoff = ((1 + p*(exp(3*t)-1) + q*(exp(100*t) - 1) )*exp(-t*(n+a)/n))**n\n",
    "\n",
    "print('P(X - n ≥ a) ≤ {}'.format( chernoff ))"
   ]
  },
  {
   "cell_type": "markdown",
   "id": "09f75ac5",
   "metadata": {},
   "source": [
    "Based on the value of the chernoff bound $\\sim 0.0145$, we can gather that we need a lot more than $1/0.0145 \\approx 70$ instances. We thus choose $N_\\text{inst} = 10^4$."
   ]
  },
  {
   "cell_type": "code",
   "execution_count": 7,
   "id": "3bdca3b3",
   "metadata": {},
   "outputs": [
    {
     "name": "stdout",
     "output_type": "stream",
     "text": [
      "Estimated probability is 0.0015 and is bounded by chernoff 0.014459026588082981\n"
     ]
    }
   ],
   "source": [
    "import numpy as np\n",
    "import matplotlib.pyplot as plt\n",
    "\n",
    "N_inst = int(1e4)\n",
    "n = 10**4\n",
    "a = 2*10**3\n",
    "p = 4./25. # = 16/200\n",
    "q = 1./200.\n",
    "\n",
    "X = np.sum( np.random.choice([3,100,0],(n,N_inst),p=[p,q,1-p-q]), axis = 0 )\n",
    "\n",
    "count = np.count_nonzero(X - n >= a)\n",
    "est_prob = count/N_inst;\n",
    "\n",
    "print('Estimated probability is {} and is bounded by chernoff {}'.format(est_prob,chernoff) )"
   ]
  }
 ],
 "metadata": {
  "kernelspec": {
   "display_name": "Python 3.9.12 64-bit",
   "language": "python",
   "name": "python3"
  },
  "language_info": {
   "codemirror_mode": {
    "name": "ipython",
    "version": 3
   },
   "file_extension": ".py",
   "mimetype": "text/x-python",
   "name": "python",
   "nbconvert_exporter": "python",
   "pygments_lexer": "ipython3",
   "version": "3.9.12"
  },
  "vscode": {
   "interpreter": {
    "hash": "b0fa6594d8f4cbf19f97940f81e996739fb7646882a419484c72d19e05852a7e"
   }
  }
 },
 "nbformat": 4,
 "nbformat_minor": 5
}
