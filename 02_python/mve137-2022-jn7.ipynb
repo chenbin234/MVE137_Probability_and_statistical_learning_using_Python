{
 "cells": [
  {
   "cell_type": "markdown",
   "id": "df7d81e9-d5f4-4e53-a7af-a8f52cd6ef1e",
   "metadata": {},
   "source": [
    "# Balls and bins\n",
    "\n",
    "The code below simulates the balls and bins problem "
   ]
  },
  {
   "cell_type": "code",
   "execution_count": 30,
   "id": "d6763ac5-b0b3-46a0-a484-d66040a535a0",
   "metadata": {},
   "outputs": [
    {
     "name": "stdout",
     "output_type": "stream",
     "text": [
      "[0 0 0 1 0 1 1 0 1 1]\n"
     ]
    }
   ],
   "source": [
    "m= 5\n",
    "n= 10\n",
    "\n",
    "bins=np.zeros(n,dtype=int)\n",
    "\n",
    "for ii in range(m):\n",
    "    # randomly select a bin\n",
    "    bins[np.random.randint(0, n)]+=1 \n",
    "    \n",
    "print(bins)\n",
    "    "
   ]
  },
  {
   "cell_type": "markdown",
   "id": "55544f99-31d1-4146-a46b-5a8740b81b9a",
   "metadata": {},
   "source": [
    "# Poisson distribution as limit of binomial distribution\n",
    "\n",
    "We next verify that the pmf of a Binomial distribution with parameters $p$ and $n$ converges, in the limit $n\\to\\infty$ with $\\lim_{n\\to\\infty} n p = \\mu$, to a Poisson distribution with parameter $\\mu$\n",
    "\n",
    "In the code below, we verify this theorem varying $n$ for a fixed $\\mu$, and setting $p=\\mu/n$"
   ]
  },
  {
   "cell_type": "code",
   "execution_count": 1,
   "id": "58d0bf45-3afc-4408-a040-0a10d27b6e38",
   "metadata": {},
   "outputs": [
    {
     "data": {
      "application/vnd.jupyter.widget-view+json": {
       "model_id": "3b5c5fe09e9c41efa57d97dc24084716",
       "version_major": 2,
       "version_minor": 0
      },
      "text/plain": [
       "interactive(children=(IntSlider(value=1510, description='n', max=3000, min=20), FloatSlider(value=175.0, descr…"
      ]
     },
     "metadata": {},
     "output_type": "display_data"
    }
   ],
   "source": [
    "import numpy as np\n",
    "from scipy.stats import binom, poisson\n",
    "import matplotlib.pyplot as plt\n",
    "import ipywidgets as widgets\n",
    "plt.rcParams['figure.dpi'] = 100\n",
    "\n",
    "\n",
    "@widgets.interact(n=(20,3000),mu=(50,300,0.1),continuous_update=False)\n",
    "def f(n, mu):\n",
    "    k = np.arange(0, 400)\n",
    "    p=min(mu/n,1)\n",
    "    P_poisson = poisson.pmf(k, mu)\n",
    "    P_binom = binom.pmf(k, n, p)\n",
    "    plt.plot(k, P_poisson, 'r', label = \"Poisson(%0.2f)\" %mu)\n",
    "    plt.plot(k, P_binom, 'b-', label = \"Bin(%i, %0.2f)\" %(n,p))\n",
    "    plt.title('Poisson Approximation of Binomial')\n",
    "    plt.xlabel('n')\n",
    "    plt.ylabel('y')\n",
    "    plt.legend()\n",
    "    plt.grid()\n",
    "    print('|| P_Poisson - P_Binomial || = ',sum(abs(P_poisson-P_binom)))"
   ]
  },
  {
   "cell_type": "markdown",
   "id": "5d7c29a8-5b68-4d7a-b6b9-aaca1599037b",
   "metadata": {},
   "source": [
    "As predicted by the theorem, for any value of $\\mu$, the approximation becomes increasingly accurate as we increase $n$"
   ]
  },
  {
   "cell_type": "code",
   "execution_count": null,
   "id": "23fd0c31-c682-4bb1-9403-f39acb300358",
   "metadata": {},
   "outputs": [],
   "source": []
  }
 ],
 "metadata": {
  "kernelspec": {
   "display_name": "Python 3.9.12 64-bit",
   "language": "python",
   "name": "python3"
  },
  "language_info": {
   "codemirror_mode": {
    "name": "ipython",
    "version": 3
   },
   "file_extension": ".py",
   "mimetype": "text/x-python",
   "name": "python",
   "nbconvert_exporter": "python",
   "pygments_lexer": "ipython3",
   "version": "3.9.12"
  },
  "vscode": {
   "interpreter": {
    "hash": "b0fa6594d8f4cbf19f97940f81e996739fb7646882a419484c72d19e05852a7e"
   }
  }
 },
 "nbformat": 4,
 "nbformat_minor": 5
}
