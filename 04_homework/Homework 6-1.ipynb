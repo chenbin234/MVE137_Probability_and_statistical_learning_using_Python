{
 "cells": [
  {
   "cell_type": "markdown",
   "id": "61f0823c",
   "metadata": {},
   "source": [
    "**Home work 6**"
   ]
  },
  {
   "cell_type": "markdown",
   "id": "ca4fd069",
   "metadata": {},
   "source": [
    "In this exercise we will perform cross-validation on a simulated data set.  (5 pts)      "
   ]
  },
  {
   "cell_type": "code",
   "execution_count": 11,
   "id": "587ecff7",
   "metadata": {},
   "outputs": [],
   "source": [
    "import pandas as pd\n",
    "import numpy as np\n",
    "import math\n",
    "import matplotlib.pyplot as plt\n",
    "from sklearn.model_selection import LeaveOneOut\n",
    "from sklearn.linear_model import LinearRegression\n",
    "from sklearn.preprocessing import PolynomialFeatures\n",
    "from sklearn.pipeline import Pipeline\n",
    "from sklearn.metrics import mean_squared_error\n",
    "import statsmodels.api as sm\n",
    "import seaborn as sns \n",
    "%matplotlib inline"
   ]
  },
  {
   "cell_type": "markdown",
   "id": "e669aca0",
   "metadata": {},
   "source": [
    "(a) Follow the below steps and generate $y$ from $x$ and $\\epsilon$."
   ]
  },
  {
   "cell_type": "markdown",
   "id": "d68ce929",
   "metadata": {},
   "source": [
    "* Using the random.normal() function, create a vector,  𝑥 , containing 100 observations drawn from a N(0, 1) distribution. "
   ]
  },
  {
   "cell_type": "markdown",
   "id": "2d7121e2",
   "metadata": {},
   "source": [
    "* Using the random.normal() function, create a vector, $\\epsilon$, containing 100 observations drawn from a N(0, 1) distribution i.e. a normal distribution with mean zero and variance 1."
   ]
  },
  {
   "cell_type": "markdown",
   "id": "5fd8e4b0",
   "metadata": {},
   "source": [
    "* Using $x$ and $\\epsilon$, generate a vector $y$ according to the model\n",
    "\n",
    "$Y = x - 2x^2+ \\epsilon$ "
   ]
  },
  {
   "cell_type": "code",
   "execution_count": 12,
   "id": "f244cc5e",
   "metadata": {},
   "outputs": [],
   "source": [
    "np.random.seed(5)\n",
    "\n",
    "x = np.random.normal(0,1,100)\n",
    "eps = np.random.normal(0,1,100)\n",
    "y = x - 2*x**2 + eps"
   ]
  },
  {
   "cell_type": "markdown",
   "id": "90dacab0",
   "metadata": {},
   "source": [
    "(b) Plot the scatter plot between $x$ and $y$."
   ]
  },
  {
   "cell_type": "code",
   "execution_count": 13,
   "id": "a473ae64",
   "metadata": {
    "scrolled": true
   },
   "outputs": [
    {
     "data": {
      "image/png": "[encoded data removed]",
      "text/plain": [
       "<Figure size 640x480 with 1 Axes>"
      ]
     },
     "metadata": {},
     "output_type": "display_data"
    }
   ],
   "source": [
    "plt.scatter(x,y)\n",
    "plt.show()"
   ]
  },
  {
   "cell_type": "markdown",
   "id": "c58d0758",
   "metadata": {},
   "source": [
    "(c) Compute the Leave One Out Cross-Validation errors using Mean squared error (MSE) that result from fitting the following four models using least squares:"
   ]
  },
  {
   "attachments": {
    "pyt.png": {
     "image/png": "[encoded data removed]"
    }
   },
   "cell_type": "markdown",
   "id": "08bfdad0",
   "metadata": {},
   "source": [
    "![pyt.png](attachment:pyt.png)"
   ]
  },
  {
   "cell_type": "code",
   "execution_count": 14,
   "id": "b8f958f7",
   "metadata": {},
   "outputs": [
    {
     "name": "stdout",
     "output_type": "stream",
     "text": [
      "When degree = 1, the Leave One Out Cross-Validation errors using MSE is: 9.325631261683954\n",
      "When degree = 2, the Leave One Out Cross-Validation errors using MSE is: 1.1215025966769268\n",
      "When degree = 3, the Leave One Out Cross-Validation errors using MSE is: 1.1737737984110717\n",
      "When degree = 4, the Leave One Out Cross-Validation errors using MSE is: 2.2512936416513383\n"
     ]
    }
   ],
   "source": [
    "from sklearn.model_selection import cross_val_score\n",
    "\n",
    "for power in range(1,5):\n",
    "    poly = PolynomialFeatures(power,include_bias=False)\n",
    "    X_poly = poly.fit_transform(x.reshape(-1, 1))\n",
    "\n",
    "    # define Leave One Out Cross-Validation\n",
    "    cv = LeaveOneOut()\n",
    "    \n",
    "    # create model\n",
    "    model = LinearRegression(fit_intercept=True)\n",
    "    model.fit(X_poly,y)\n",
    "\n",
    "    # use function cross_val_score() to calculate the MSE\n",
    "    scores = cross_val_score(model, X_poly, y, scoring='neg_mean_squared_error', cv=cv, n_jobs=-1)\n",
    "    average_MSE = np.mean(np.absolute(scores))\n",
    "    print('When degree = {}, the Leave One Out Cross-Validation errors using MSE is: {}'.format(power,average_MSE))"
   ]
  },
  {
   "cell_type": "markdown",
   "id": "60bf753e",
   "metadata": {},
   "source": [
    "(d)  What is the model with the smallest LOOCV error"
   ]
  },
  {
   "cell_type": "markdown",
   "id": "3cb3fc25",
   "metadata": {},
   "source": [
    "$\\textbf{Answer:}$ When degree=2, the model have the smallest LOOCV error, the model is $Y = 0.0288 + 1.1562x - 2.0181x^2$"
   ]
  },
  {
   "cell_type": "markdown",
   "id": "7dd06473",
   "metadata": {},
   "source": [
    "(e) Observe the statistical significance of the coefficient estimates that results from fitting each of the models above using\n",
    "least squares."
   ]
  },
  {
   "cell_type": "code",
   "execution_count": 15,
   "id": "46968e89",
   "metadata": {},
   "outputs": [
    {
     "name": "stdout",
     "output_type": "stream",
     "text": [
      "When degree = 1\n",
      "                            OLS Regression Results                            \n",
      "==============================================================================\n",
      "Dep. Variable:                      y   R-squared:                       0.045\n",
      "Model:                            OLS   Adj. R-squared:                  0.036\n",
      "Method:                 Least Squares   F-statistic:                     4.660\n",
      "Date:                Sun, 09 Oct 2022   Prob (F-statistic):             0.0333\n",
      "Time:                        00:11:05   Log-Likelihood:                -246.77\n",
      "No. Observations:                 100   AIC:                             497.5\n",
      "Df Residuals:                      98   BIC:                             502.8\n",
      "Df Model:                           1                                         \n",
      "Covariance Type:            nonrobust                                         \n",
      "==============================================================================\n",
      "                 coef    std err          t      P>|t|      [0.025      0.975]\n",
      "------------------------------------------------------------------------------\n",
      "intercept     -1.6926      0.290     -5.843      0.000      -2.268      -1.118\n",
      "X1             0.6685      0.310      2.159      0.033       0.054       1.283\n",
      "==============================================================================\n",
      "Omnibus:                       81.660   Durbin-Watson:                   2.075\n",
      "Prob(Omnibus):                  0.000   Jarque-Bera (JB):              572.479\n",
      "Skew:                          -2.701   Prob(JB):                    4.87e-125\n",
      "Kurtosis:                      13.402   Cond. No.                         1.13\n",
      "==============================================================================\n",
      "\n",
      "Notes:\n",
      "[1] Standard Errors assume that the covariance matrix of the errors is correctly specified.\n",
      "When degree = 2\n",
      "                            OLS Regression Results                            \n",
      "==============================================================================\n",
      "Dep. Variable:                      y   R-squared:                       0.878\n",
      "Model:                            OLS   Adj. R-squared:                  0.875\n",
      "Method:                 Least Squares   F-statistic:                     347.5\n",
      "Date:                Sun, 09 Oct 2022   Prob (F-statistic):           5.89e-45\n",
      "Time:                        00:11:05   Log-Likelihood:                -144.10\n",
      "No. Observations:                 100   AIC:                             294.2\n",
      "Df Residuals:                      97   BIC:                             302.0\n",
      "Df Model:                           2                                         \n",
      "Covariance Type:            nonrobust                                         \n",
      "==============================================================================\n",
      "                 coef    std err          t      P>|t|      [0.025      0.975]\n",
      "------------------------------------------------------------------------------\n",
      "intercept      0.0288      0.124      0.232      0.817      -0.217       0.275\n",
      "X1             1.1562      0.113     10.223      0.000       0.932       1.381\n",
      "X2            -2.0181      0.079    -25.672      0.000      -2.174      -1.862\n",
      "==============================================================================\n",
      "Omnibus:                        0.133   Durbin-Watson:                   1.801\n",
      "Prob(Omnibus):                  0.936   Jarque-Bera (JB):                0.303\n",
      "Skew:                          -0.047   Prob(JB):                        0.860\n",
      "Kurtosis:                       2.748   Cond. No.                         2.23\n",
      "==============================================================================\n",
      "\n",
      "Notes:\n",
      "[1] Standard Errors assume that the covariance matrix of the errors is correctly specified.\n",
      "When degree = 3\n",
      "                            OLS Regression Results                            \n",
      "==============================================================================\n",
      "Dep. Variable:                      y   R-squared:                       0.878\n",
      "Model:                            OLS   Adj. R-squared:                  0.874\n",
      "Method:                 Least Squares   F-statistic:                     229.3\n",
      "Date:                Sun, 09 Oct 2022   Prob (F-statistic):           1.24e-43\n",
      "Time:                        00:11:05   Log-Likelihood:                -144.09\n",
      "No. Observations:                 100   AIC:                             296.2\n",
      "Df Residuals:                      96   BIC:                             306.6\n",
      "Df Model:                           3                                         \n",
      "Covariance Type:            nonrobust                                         \n",
      "==============================================================================\n",
      "                 coef    std err          t      P>|t|      [0.025      0.975]\n",
      "------------------------------------------------------------------------------\n",
      "intercept      0.0302      0.125      0.241      0.810      -0.219       0.279\n",
      "X1             1.1708      0.185      6.324      0.000       0.803       1.538\n",
      "X2            -2.0197      0.081    -25.076      0.000      -2.180      -1.860\n",
      "X3            -0.0049      0.049     -0.100      0.921      -0.102       0.092\n",
      "==============================================================================\n",
      "Omnibus:                        0.127   Durbin-Watson:                   1.799\n",
      "Prob(Omnibus):                  0.939   Jarque-Bera (JB):                0.299\n",
      "Skew:                          -0.040   Prob(JB):                        0.861\n",
      "Kurtosis:                       2.744   Cond. No.                         6.58\n",
      "==============================================================================\n",
      "\n",
      "Notes:\n",
      "[1] Standard Errors assume that the covariance matrix of the errors is correctly specified.\n",
      "When degree = 4\n",
      "                            OLS Regression Results                            \n",
      "==============================================================================\n",
      "Dep. Variable:                      y   R-squared:                       0.878\n",
      "Model:                            OLS   Adj. R-squared:                  0.873\n",
      "Method:                 Least Squares   F-statistic:                     170.6\n",
      "Date:                Sun, 09 Oct 2022   Prob (F-statistic):           1.84e-42\n",
      "Time:                        00:11:05   Log-Likelihood:                -143.98\n",
      "No. Observations:                 100   AIC:                             298.0\n",
      "Df Residuals:                      95   BIC:                             311.0\n",
      "Df Model:                           4                                         \n",
      "Covariance Type:            nonrobust                                         \n",
      "==============================================================================\n",
      "                 coef    std err          t      P>|t|      [0.025      0.975]\n",
      "------------------------------------------------------------------------------\n",
      "intercept     -0.0049      0.147     -0.033      0.973      -0.297       0.287\n",
      "X1             1.1783      0.187      6.314      0.000       0.808       1.549\n",
      "X2            -1.9297      0.212     -9.122      0.000      -2.350      -1.510\n",
      "X3            -0.0144      0.053     -0.271      0.787      -0.120       0.091\n",
      "X4            -0.0162      0.035     -0.460      0.646      -0.086       0.054\n",
      "==============================================================================\n",
      "Omnibus:                        0.100   Durbin-Watson:                   1.799\n",
      "Prob(Omnibus):                  0.951   Jarque-Bera (JB):                0.271\n",
      "Skew:                          -0.027   Prob(JB):                        0.873\n",
      "Kurtosis:                       2.751   Cond. No.                         20.1\n",
      "==============================================================================\n",
      "\n",
      "Notes:\n",
      "[1] Standard Errors assume that the covariance matrix of the errors is correctly specified.\n"
     ]
    }
   ],
   "source": [
    "for power in range(1,5):\n",
    "    poly = PolynomialFeatures(power,include_bias=False)\n",
    "    df = poly.fit_transform(pd.DataFrame({'X':x}))\n",
    "    df = pd.DataFrame(df)\n",
    "    col = ['X' + str(i) for i in range(1,power+1)]\n",
    "    df.columns = col\n",
    "    \n",
    "    # insert intercept column into X\n",
    "    ones = np.ones(100)\n",
    "    df.insert(0,'intercept',ones)\n",
    "\n",
    "    # create model\n",
    "    X = sm.add_constant(df)\n",
    "    model = sm.OLS(y,X).fit()\n",
    "    print('When degree = {}'.format(power))\n",
    "    print(model.summary())"
   ]
  },
  {
   "cell_type": "markdown",
   "id": "c8b8ad9e",
   "metadata": {},
   "source": [
    "$\\textbf{Answer}$: \n",
    " - When degree=1, the p value of intercept and X1 is relatively low (<0.05), which are statistically significant, however, the efficacy of the model (AIC, BIC, R-squared, Adj. R-squared) is far from satisfying.\n",
    " - When degree=2,the efficacy of the model is good, the p value of X1 and X2 is 0.000 which means they are statistically significant to y, X1 and X2 also has low std err and a large absolute value of t, which shows the coefficient $\\beta_1$ and $\\beta_2$ is not likely equal to zero. Conversely, the intercept't t value is close to 0 and p value is close to 1 (which means the intercept $\\beta_0$ is more likely to equal to 0). \n",
    "  - Similarly, when degree = 3 or 4, the p value of X1 and X2 are 0.000 and the absolute value of t of X1 and X2 are large which shows the coefficient $\\beta_0$ and $\\beta_1$ is significantly different from 0. However, $\\beta_0, \\beta_3, \\beta_4$ are not statistically significant to y because their p value is close to 1 and t value is close to 0."
   ]
  },
  {
   "cell_type": "markdown",
   "id": "447eaac8",
   "metadata": {},
   "source": [
    "(f) Observe the t-statistic values"
   ]
  },
  {
   "cell_type": "markdown",
   "id": "87249c39",
   "metadata": {},
   "source": [
    "$\\textbf{Answer}$:  \n",
    " - The t statistic value shows the correlation between the x and y.\n",
    " - a high t statistic (absolute value) shows a high significance for the coefficient.\n",
    " - The t value of X1 and X2 is high thoughout degree from 1 to 4, which shows $\\beta_1$ and $\\beta_2$ is highly unlikely to be equal to 0.\n",
    " - The t value of other coef is close to 0, which means intercept,X3,X4 are not statistically significant to y and $\\beta_0, \\beta_3, \\beta_4$ is high likely to be 0.\n",
    " - However, when degree=1, the t absolute value of intercept is high, that means It is not enough to observe the t value alone, other indicators (such as AIC, BIC, R-squared, Adj. R-squared, p value, std err, etc) need to be observed at the same time in order to evaluate the performance of the model."
   ]
  }
 ],
 "metadata": {
  "kernelspec": {
   "display_name": "Python 3.9.12 64-bit",
   "language": "python",
   "name": "python3"
  },
  "language_info": {
   "codemirror_mode": {
    "name": "ipython",
    "version": 3
   },
   "file_extension": ".py",
   "mimetype": "text/x-python",
   "name": "python",
   "nbconvert_exporter": "python",
   "pygments_lexer": "ipython3",
   "version": "3.9.12"
  },
  "vscode": {
   "interpreter": {
    "hash": "b0fa6594d8f4cbf19f97940f81e996739fb7646882a419484c72d19e05852a7e"
   }
  }
 },
 "nbformat": 4,
 "nbformat_minor": 5
}
