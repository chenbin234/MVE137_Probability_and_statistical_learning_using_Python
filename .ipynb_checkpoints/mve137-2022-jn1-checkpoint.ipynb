{
 "cells": [
  {
   "cell_type": "markdown",
   "id": "75b460db",
   "metadata": {},
   "source": [
    "# Funtion to compute probability\n",
    "Let us start defining a function to compute the probability of an event, given a sample space of equally probable outcomes "
   ]
  },
  {
   "cell_type": "code",
   "execution_count": 12,
   "id": "7fc2b705",
   "metadata": {},
   "outputs": [],
   "source": [
    "# function to compute the probability of an envent, given a sample space of\n",
    "# of equiprobable outcomes \n",
    "from fractions import Fraction\n",
    "def P(event,space):\n",
    "    return Fraction(len(event & space),len(space))"
   ]
  },
  {
   "cell_type": "markdown",
   "id": "4e064bbd",
   "metadata": {},
   "source": [
    "The idea of this function is simply to compute the ratio of favorable case over the number of all possible cases. The intersection in the numerator is to avoid the case in which the set event contains items that do not belong to the sample space.\n",
    "The result is represented as a fraction"
   ]
  },
  {
   "cell_type": "markdown",
   "id": "4a0d0725",
   "metadata": {},
   "source": [
    "# Warm-up Problem: Die Roll\n",
    "\n",
    "What's the probability of rolling an even number with a single six-sided fair dice?\n",
    "\n",
    "We can define the sample space D and the event \"even\", and compute the probability:"
   ]
  },
  {
   "cell_type": "code",
   "execution_count": 2,
   "id": "b22905e3",
   "metadata": {},
   "outputs": [
    {
     "data": {
      "text/plain": [
       "Fraction(1, 2)"
      ]
     },
     "execution_count": 2,
     "metadata": {},
     "output_type": "execute_result"
    }
   ],
   "source": [
    "Omega = {1,2,3,4,5,6}\n",
    "even = {2, 4, 6}\n",
    "P(even,Omega)"
   ]
  },
  {
   "cell_type": "markdown",
   "id": "8e2dd9b0",
   "metadata": {},
   "source": [
    "Let us demonstrate the utility to have an intersection in the numerator in the definition of probability. Let us redefine \"even\" as follows"
   ]
  },
  {
   "cell_type": "code",
   "execution_count": 3,
   "id": "cc743783",
   "metadata": {},
   "outputs": [
    {
     "data": {
      "text/plain": [
       "Fraction(1, 2)"
      ]
     },
     "execution_count": 3,
     "metadata": {},
     "output_type": "execute_result"
    }
   ],
   "source": [
    "even = {2, 4, 6, 8, 10, 12}\n",
    "P(even,Omega)"
   ]
  },
  {
   "cell_type": "markdown",
   "id": "ee6201a2",
   "metadata": {},
   "source": [
    "# Urn Problems\n",
    "Aound 1700, the matematician Jacob Bernoulli wrote about removing colored balls from an urn in a landmark treatise. Ever since then, explanation of basic concepts in probability have relied on urn problems.  Here is an example, which we will solve using python.\n"
   ]
  },
  {
   "cell_type": "markdown",
   "id": "a312e174",
   "metadata": {},
   "source": [
    "## Problem \n",
    "> An urn contains 23 balls, 8 white, 6 blue, and 9 red. We select 6 balls at random (with each possible selection equally likely). What is the probability of each of these possible events? \n",
    "> 1. All balls are red \n",
    "> 2. 3 are blue, 2 are white and 1 is red  \n",
    "> 3. exactly 4 of the balls are white"
   ]
  },
  {
   "cell_type": "markdown",
   "id": "01aa4721",
   "metadata": {},
   "source": [
    "## Solution\n",
    "\n",
    "We can solve this problem using the P function and some counting, which is a bit trickier than before because\n",
    "\n",
    "- we have multiple balls of the same color\n",
    "- an outcome is a set of balls where the order does not matter, and not a sequence, where the order matters\n",
    "\n",
    "To count in the right way, we will label each white ball as 'W1', 'W2', ..., ;'W8'. Similarly, we will label the blue balls, as 'B1', ..., 'B6', and the red balls as 'R1',..., 'R9'. \n",
    "\n",
    "Let us define the content of the urn. We start by defining an auxiliary function that computes the set resulting from concatenating one item from collection A with one item from collection B"
   ]
  },
  {
   "cell_type": "code",
   "execution_count": 1,
   "id": "4b067741",
   "metadata": {},
   "outputs": [],
   "source": [
    "def cross(A,B):\n",
    "    return {a+b for a in A for b in B}"
   ]
  },
  {
   "cell_type": "code",
   "execution_count": 2,
   "id": "a42aeacd",
   "metadata": {},
   "outputs": [
    {
     "data": {
      "text/plain": [
       "{'B1',\n",
       " 'B2',\n",
       " 'B3',\n",
       " 'B4',\n",
       " 'B5',\n",
       " 'B6',\n",
       " 'R1',\n",
       " 'R2',\n",
       " 'R3',\n",
       " 'R4',\n",
       " 'R5',\n",
       " 'R6',\n",
       " 'R7',\n",
       " 'R8',\n",
       " 'R9',\n",
       " 'W1',\n",
       " 'W2',\n",
       " 'W3',\n",
       " 'W4',\n",
       " 'W5',\n",
       " 'W6',\n",
       " 'W7',\n",
       " 'W8'}"
      ]
     },
     "execution_count": 2,
     "metadata": {},
     "output_type": "execute_result"
    }
   ],
   "source": [
    "urn = cross('W','12345678') | cross('B','123456') | cross('R','123456789')\n",
    "urn"
   ]
  },
  {
   "cell_type": "code",
   "execution_count": 3,
   "id": "166163f7",
   "metadata": {},
   "outputs": [
    {
     "data": {
      "text/plain": [
       "23"
      ]
     },
     "execution_count": 3,
     "metadata": {},
     "output_type": "execute_result"
    }
   ],
   "source": [
    "len(urn)"
   ]
  },
  {
   "cell_type": "markdown",
   "id": "5d32bdd4",
   "metadata": {},
   "source": [
    "We now define the sample space, which is given in our case by the set of all 6-ball combinations. Let us call this sample space U6. To generate U6 we use the function `itertools.combinations`, which returns all tuples of a given length, in sorted order, without repeated elements. Then we join each combination into a string"
   ]
  },
  {
   "cell_type": "code",
   "execution_count": 10,
   "id": "dc17ece8",
   "metadata": {},
   "outputs": [],
   "source": [
    "import itertools\n",
    "\n",
    "# function  to compute all combinations of n items; each combination is returned in the form of a concatenated string\n",
    "def combos(items,n):\n",
    "    return {' '.join(combo) \n",
    "       for combo in itertools.combinations(items,n)}\n",
    "\n",
    "U6 = combos(urn,6)\n",
    "\n",
    "# this code is to check the actual output of itertool.combination it is a 2D object, this is the reason oof the conversion\n",
    "# to string; \n",
    "\n",
    "# altlist=list(itertools.combinations(urn,2))\n",
    "# display(altlist)\n"
   ]
  },
  {
   "cell_type": "markdown",
   "id": "ab77a951",
   "metadata": {},
   "source": [
    "So the size of the sample space is indeed quite large. Let us just peek at few random samples "
   ]
  },
  {
   "cell_type": "code",
   "execution_count": 6,
   "id": "558cfc8b",
   "metadata": {},
   "outputs": [
    {
     "data": {
      "text/plain": [
       "['R3 W8 B5 W3 R7 B2',\n",
       " 'R3 W2 R4 W8 W6 W5',\n",
       " 'R3 B3 W3 R7 B2 W5',\n",
       " 'R3 R9 R4 W8 B1 W5',\n",
       " 'W1 R9 R4 B3 B6 R5',\n",
       " 'W1 R4 W8 W6 W4 W5',\n",
       " 'W1 R2 W2 B3 B5 B4',\n",
       " 'R2 W2 W8 R8 B4 R1',\n",
       " 'W8 B6 W7 W6 R7 W5',\n",
       " 'W1 R3 B6 B5 W3 W6']"
      ]
     },
     "execution_count": 6,
     "metadata": {},
     "output_type": "execute_result"
    }
   ],
   "source": [
    "import random \n",
    "# convert set into a list to avoid deprecation messages in python >=3.9\n",
    "random.choices([*U6],k=10)"
   ]
  },
  {
   "cell_type": "markdown",
   "id": "eb836126",
   "metadata": {},
   "source": [
    "Is the size of the sample space correct? In how many ways can we select 6 out of 23 items? \n"
   ]
  },
  {
   "cell_type": "code",
   "execution_count": 7,
   "id": "b2877f6c",
   "metadata": {},
   "outputs": [
    {
     "data": {
      "text/plain": [
       "100947"
      ]
     },
     "execution_count": 7,
     "metadata": {},
     "output_type": "execute_result"
    }
   ],
   "source": [
    "from math import comb #comb is the binomial coefficient in python \n",
    "comb(23,6)"
   ]
  },
  {
   "cell_type": "markdown",
   "id": "3a2edaee",
   "metadata": {},
   "source": [
    "We are now ready to solve the 3 problems\n",
    "\n",
    "## Urn problem 1: what is the probability of selecting 6 red balls?\n"
   ]
  },
  {
   "cell_type": "code",
   "execution_count": 33,
   "id": "2db57002",
   "metadata": {},
   "outputs": [
    {
     "data": {
      "text/plain": [
       "Fraction(4, 4807)"
      ]
     },
     "execution_count": 33,
     "metadata": {},
     "output_type": "execute_result"
    }
   ],
   "source": [
    "red6 = {s for s in U6 if s.count('R')==6}\n",
    "P(red6,U6)"
   ]
  },
  {
   "cell_type": "markdown",
   "id": "b1ecc762",
   "metadata": {},
   "source": [
    "Let us check that this solution is correct. How many ways of getting 6 red balls are there?"
   ]
  },
  {
   "cell_type": "code",
   "execution_count": 34,
   "id": "5784fdf0",
   "metadata": {},
   "outputs": [
    {
     "data": {
      "text/plain": [
       "84"
      ]
     },
     "execution_count": 34,
     "metadata": {},
     "output_type": "execute_result"
    }
   ],
   "source": [
    "len(red6)"
   ]
  },
  {
   "cell_type": "markdown",
   "id": "e877faac",
   "metadata": {},
   "source": [
    "why are there exactly so many ways? Because we have 9 red balls and we are asking in how many ways we can extract 6"
   ]
  },
  {
   "cell_type": "code",
   "execution_count": 35,
   "id": "364288eb",
   "metadata": {},
   "outputs": [
    {
     "data": {
      "text/plain": [
       "84"
      ]
     },
     "execution_count": 35,
     "metadata": {},
     "output_type": "execute_result"
    }
   ],
   "source": [
    "comb(9,6)"
   ]
  },
  {
   "cell_type": "markdown",
   "id": "36637644",
   "metadata": {},
   "source": [
    "So the probability of getting 6 red balls is just (9 choose 6) divided by the size of the sample space"
   ]
  },
  {
   "cell_type": "code",
   "execution_count": 36,
   "id": "f1ee2c14",
   "metadata": {},
   "outputs": [
    {
     "data": {
      "text/plain": [
       "True"
      ]
     },
     "execution_count": 36,
     "metadata": {},
     "output_type": "execute_result"
    }
   ],
   "source": [
    "P(red6,U6)==Fraction(comb(9,6), len(U6))"
   ]
  },
  {
   "cell_type": "markdown",
   "id": "f98e69ae",
   "metadata": {},
   "source": [
    "## Urn problem 2: what is the probability of 3 blue 2 white and 1 red?"
   ]
  },
  {
   "cell_type": "code",
   "execution_count": 13,
   "id": "e70c2140",
   "metadata": {},
   "outputs": [
    {
     "data": {
      "text/plain": [
       "Fraction(240, 4807)"
      ]
     },
     "execution_count": 13,
     "metadata": {},
     "output_type": "execute_result"
    }
   ],
   "source": [
    "b3w2r1= {s for s in U6 if s.count('B')==3 and s.count('W')==2 and s.count('R')==1}\n",
    "P(b3w2r1,U6)"
   ]
  },
  {
   "cell_type": "markdown",
   "id": "a38d8548",
   "metadata": {},
   "source": [
    "We can get the same answer by counting in how many ways we can choose 3 out of 6 blues, 2 out of 8 whites, and 1 out of 9 reds, and by dividing by the dimension of the sample space"
   ]
  },
  {
   "cell_type": "code",
   "execution_count": 38,
   "id": "b2427326",
   "metadata": {},
   "outputs": [
    {
     "data": {
      "text/plain": [
       "True"
      ]
     },
     "execution_count": 38,
     "metadata": {},
     "output_type": "execute_result"
    }
   ],
   "source": [
    "P(b3w2r1,U6) == Fraction( comb(6,3) * comb(8,2) * comb(9,1), len(U6))"
   ]
  },
  {
   "cell_type": "markdown",
   "id": "a6b90c1d",
   "metadata": {},
   "source": [
    "## Urn Problem 3: what is the probability of exactly 4 white balls?"
   ]
  },
  {
   "cell_type": "code",
   "execution_count": 39,
   "id": "d460702c",
   "metadata": {},
   "outputs": [
    {
     "data": {
      "text/plain": [
       "Fraction(350, 4807)"
      ]
     },
     "execution_count": 39,
     "metadata": {},
     "output_type": "execute_result"
    }
   ],
   "source": [
    "w4 = {s for s in U6 if s.count('W') == 4}\n",
    "P(w4,U6)"
   ]
  },
  {
   "cell_type": "markdown",
   "id": "a143c338",
   "metadata": {},
   "source": [
    "We can get the same answer by counting in how many ways we can select 4 out of 8 white balls and 2 out of the 15 nonwhite balls."
   ]
  },
  {
   "cell_type": "code",
   "execution_count": 40,
   "id": "e373b298",
   "metadata": {},
   "outputs": [
    {
     "data": {
      "text/plain": [
       "True"
      ]
     },
     "execution_count": 40,
     "metadata": {},
     "output_type": "execute_result"
    }
   ],
   "source": [
    "P(w4,U6) == Fraction(comb(8,4) * comb(15,2), len(U6))"
   ]
  },
  {
   "cell_type": "code",
   "execution_count": null,
   "id": "177eb3db-2e12-40ac-95f7-0f8096222f41",
   "metadata": {},
   "outputs": [],
   "source": []
  }
 ],
 "metadata": {
  "kernelspec": {
   "display_name": "Python 3 (ipykernel)",
   "language": "python",
   "name": "python3"
  },
  "language_info": {
   "codemirror_mode": {
    "name": "ipython",
    "version": 3
   },
   "file_extension": ".py",
   "mimetype": "text/x-python",
   "name": "python",
   "nbconvert_exporter": "python",
   "pygments_lexer": "ipython3",
   "version": "3.9.2"
  }
 },
 "nbformat": 4,
 "nbformat_minor": 5
}
