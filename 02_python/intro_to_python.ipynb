{
 "cells": [
  {
   "cell_type": "markdown",
   "id": "f7493851",
   "metadata": {},
   "source": [
    "# Introduction to Python\n",
    "\n",
    "Python is a high-level programming language, similiar to MATLAB. This means that when you write scripts in python a lot of background things are handled for you. For example:\n",
    "* There is no need to compile, this is done at runtime\n",
    "* Typically, no weird parentheses or semicolons are needed when writing code, e.g. if-, while- and for-statements. This is instead handled via indentation and rowbreaks (a nice bonus is that your code has to look nice to be able to run)\n",
    "* Most of the functions that you might like to use are pre-defined in some library. There is no need to write them yourself. \n",
    "* Typically there is no need to declare or worry too much about the type of an object\n",
    " \n",
    "This is a Jupyter Notebook file in which text and python scripts can be combined to create a better learning experience. The file is opened in your web browser, but is not 'online', it is stored on you local computer. \n",
    "\n",
    "In this notebook, we will go through some of the basics of python:\n",
    "* Importing libraries and using functions\n",
    "* Writing simple if- and for- statements\n",
    "* Creating print-outs and plots\n",
    "* Handling vectors and matrices\n",
    "\n",
    "So let's get started with importing some of the common libraries. At the start of a script we import the necessary libraries. For example"
   ]
  },
  {
   "cell_type": "code",
   "execution_count": 1,
   "id": "de975867",
   "metadata": {},
   "outputs": [
    {
     "name": "stderr",
     "output_type": "stream",
     "text": [
      "Fontconfig warning: ignoring UTF-8: not a valid region tag\n"
     ]
    }
   ],
   "source": [
    "import matplotlib.pyplot as plt\n",
    "# import the library matplotlib.pyplot and call this plt\n",
    "import numpy as np"
   ]
  },
  {
   "cell_type": "markdown",
   "id": "faf4661f",
   "metadata": {},
   "source": [
    "Let's try a basic if statement with a printout"
   ]
  },
  {
   "cell_type": "code",
   "execution_count": 2,
   "id": "87b6fefc",
   "metadata": {},
   "outputs": [
    {
     "name": "stdout",
     "output_type": "stream",
     "text": [
      "val is 10\n"
     ]
    }
   ],
   "source": [
    "val = 10\n",
    "\n",
    "if val == 10:\n",
    "    print('val is 10')\n",
    "else:\n",
    "    print('val is not 10')"
   ]
  },
  {
   "cell_type": "markdown",
   "id": "ab01fe29",
   "metadata": {},
   "source": [
    "Things to note here are the lack of semicolons after every row, the mandatory indentations for things inside an if (or for/while/etc) statement and the colon after the condition for the if-statement. \n",
    "\n",
    "Another thing that we can note is that we didn't need to declare `val` or say anything about what type of data is stored in it. The equivalent statement to `val = 10` in another language might be `int val = 10;`. \n",
    "If we want a float we would write `val = 10.`, which indicates that `val` should be treated as a float. \n",
    "\n",
    "Just for clarity, let's try this again, but this time with `val = 9.`."
   ]
  },
  {
   "cell_type": "code",
   "execution_count": 3,
   "id": "25b832d6",
   "metadata": {},
   "outputs": [
    {
     "name": "stdout",
     "output_type": "stream",
     "text": [
      "val is not 10\n"
     ]
    }
   ],
   "source": [
    "val = 9.\n",
    "\n",
    "if val == 10:\n",
    "    print('val is 10')\n",
    "else:\n",
    "    print('val is not 10')"
   ]
  },
  {
   "cell_type": "markdown",
   "id": "7e1ddafe",
   "metadata": {},
   "source": [
    "So if-statements seem to work and we've learned how to do simple print-outs. \n",
    "\n",
    "Let's try some for-loops and some more complicated formatted print-outs. "
   ]
  },
  {
   "cell_type": "code",
   "execution_count": 4,
   "id": "fa47dec2",
   "metadata": {
    "scrolled": true
   },
   "outputs": [
    {
     "name": "stdout",
     "output_type": "stream",
     "text": [
      "v = 5\n",
      "v = 2\n",
      "v = 9\n",
      "v = 11\n",
      "v = 7\n",
      "v = 9\n"
     ]
    }
   ],
   "source": [
    "val = [5,2,9,11,7,9]\n",
    "for v in val:\n",
    "    print('v = {}'.format(v))"
   ]
  },
  {
   "cell_type": "markdown",
   "id": "b73e1258",
   "metadata": {},
   "source": [
    "So we can loop through a list that we created. We can do this with pretty much any list of any type of objects. Here is an example with some strings (which can be created with both 'bla' and \"bla\")"
   ]
  },
  {
   "cell_type": "code",
   "execution_count": 5,
   "id": "baf6f57c",
   "metadata": {
    "scrolled": true
   },
   "outputs": [
    {
     "name": "stdout",
     "output_type": "stream",
     "text": [
      "Hi!\n",
      "My name is \n",
      "What?\n",
      "My name is \n",
      "Who?\n",
      "My name is \n",
      "Chika-chika \n",
      "Slim Shady\n"
     ]
    }
   ],
   "source": [
    "names = ['\\nWhat?','\\nWho?','\\nChika-chika \\nSlim Shady']\n",
    "print('Hi!')\n",
    "for n in names:\n",
    "    print('My name is ' + n)"
   ]
  },
  {
   "cell_type": "markdown",
   "id": "4847f114",
   "metadata": {},
   "source": [
    "We are used to looping through indices for example via a statement such as `for( int i = 0; i < 10; i ++ )`. To do this in python we make use of the `range` function"
   ]
  },
  {
   "cell_type": "code",
   "execution_count": 6,
   "id": "62b7c71f",
   "metadata": {
    "scrolled": true
   },
   "outputs": [
    {
     "name": "stdout",
     "output_type": "stream",
     "text": [
      "Element 0 is 20\n",
      "Element 1 is 30\n",
      "Element 2 is 40\n",
      "Element 3 is 50\n",
      "Element 4 is 60\n",
      "Element 5 is 70\n",
      "Element 6 is 80\n",
      "Element 7 is 90\n"
     ]
    }
   ],
   "source": [
    "val = list(range(20,100,10))\n",
    "for i in range(len(val)):\n",
    "    print('Element {} is {}'.format( i,val[i] ) )"
   ]
  },
  {
   "cell_type": "markdown",
   "id": "56f31b39",
   "metadata": {},
   "source": [
    "As you can see python arrays (or lists) start at index 0 (as in most languages except MATLAB). \n",
    "\n",
    "Now we know how to write the if-statements and for-loops, which is really most of what anyone would need for basic programming. Other structures such as while-loops, switch-statements, try-catch, etc. are also availible, please consult google if you have any questions about how these should be written. \n",
    "\n",
    "Next I am going to do some math operations on a vector and then plot the results"
   ]
  },
  {
   "cell_type": "code",
   "execution_count": 7,
   "id": "d9735872",
   "metadata": {
    "scrolled": true
   },
   "outputs": [
    {
     "name": "stdout",
     "output_type": "stream",
     "text": [
      "(100,)\n",
      "(100, 100)\n",
      "500.0\n"
     ]
    },
    {
     "data": {
      "image/png": "[encoded data removed]",
      "text/plain": [
       "<Figure size 640x480 with 1 Axes>"
      ]
     },
     "metadata": {},
     "output_type": "display_data"
    }
   ],
   "source": [
    "x = np.linspace(1,10,10**2)\n",
    "print(x.shape)\n",
    "I_5 = np.eye(100)*5\n",
    "print(I_5.shape)\n",
    "\n",
    "# Matrix multiplication\n",
    "y = I_5@x\n",
    "\n",
    "# Pointwise division\n",
    "z = y/x \n",
    "\n",
    "# Access functions from numpy\n",
    "print(np.sum(z))\n",
    "\n",
    "plt.plot(x,10*np.log(x))\n",
    "plt.plot(x,y,color='red')\n",
    "plt.title('Two functions',fontweight='bold')\n",
    "plt.xlabel('$x$')\n",
    "plt.ylabel('$y$')\n",
    "plt.legend(['$10 \\cdot \\ln(x)$','$5 \\cdot x = 5 \\, \\mathbf{I} \\, \\mathbf{x}$'])\n",
    "plt.show()\n"
   ]
  },
  {
   "cell_type": "markdown",
   "id": "94621a1c",
   "metadata": {},
   "source": [
    "Last but not least we look at how to create functions. Just for simplicity let's write our own version of a sum function."
   ]
  },
  {
   "cell_type": "code",
   "execution_count": 8,
   "id": "48da089b",
   "metadata": {},
   "outputs": [
    {
     "name": "stdout",
     "output_type": "stream",
     "text": [
      "8.0\n",
      "[39. 47.]\n"
     ]
    }
   ],
   "source": [
    "def sum(vec):\n",
    "    s = 0.\n",
    "    for x in vec:\n",
    "        s += x\n",
    "    return s\n",
    "\n",
    "print(sum(np.ones(8)))\n",
    "print(sum(np.random.randint(11,size=[10,2])))"
   ]
  },
  {
   "cell_type": "markdown",
   "id": "b0f19325",
   "metadata": {},
   "source": [
    "If you want to find a specific command, just google or maybe check out the APIs for the different libraries. If you're used to MATLAB, this [link](https://numpy.org/doc/stable/user/numpy-for-matlab-users.html) gives a nice overview of the basic differences when it comes to vectors and matrices and how to use NumPy. \n",
    "\n",
    "If you are interested in learning more about python and how to use the different libraries you can check out this [online course on edX](https://www.edx.org/course/python-for-data-science-2?index=product&queryID=5c4c0d1ebd642d5ccc87671e5362a164&position=1) which will probably go deeper into python than this course does. If you have no prior knowledge of python and would like some tutorials, you can check out this [online course on edX](https://www.edx.org/course/python-basics-for-data-science?index=product&queryID=cb1c0a63daae0e5698d8f6a4fe42e9e5&position=1)."
   ]
  }
 ],
 "metadata": {
  "kernelspec": {
   "display_name": "Python 3.9.12 64-bit",
   "language": "python",
   "name": "python3"
  },
  "language_info": {
   "codemirror_mode": {
    "name": "ipython",
    "version": 3
   },
   "file_extension": ".py",
   "mimetype": "text/x-python",
   "name": "python",
   "nbconvert_exporter": "python",
   "pygments_lexer": "ipython3",
   "version": "3.9.12"
  },
  "vscode": {
   "interpreter": {
    "hash": "b0fa6594d8f4cbf19f97940f81e996739fb7646882a419484c72d19e05852a7e"
   }
  }
 },
 "nbformat": 4,
 "nbformat_minor": 5
}
