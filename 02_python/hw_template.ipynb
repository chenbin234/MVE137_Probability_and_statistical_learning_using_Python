{
 "cells": [
  {
   "cell_type": "markdown",
   "id": "a8744ae3",
   "metadata": {},
   "source": [
    "# Homework XX\n",
    "\n",
    "## Exersice YY\n",
    "\n",
    "### Solution:\n",
    "\n",
    "An example of how to write an equation:\n",
    "$$\n",
    "    x = y + \\alpha \\cdot \\sum_{i=0}^{27} \\left(i^4 + 7 \\right)^{544} + \\frac{\\partial f}{\\partial x_1} + \\cdots\n",
    "$$\n",
    "\n",
    "Remember that markdown accepts most latex/tex notation for the math.\n",
    "\n",
    "An example of a probability\n",
    "$$\n",
    "    \\Pr[X = k] = {n \\choose k} p^k (1-p)^{n-k}, \\quad \\forall k \\in \\{i \\in \\mathbb{N}: 0 \\leq i \\leq n \\}\n",
    "$$\n",
    "For this variable the expectaion and variance is:\n",
    "$$\n",
    "    \\text{E}[X] = np\n",
    "$$\n",
    "and\n",
    "$$\n",
    "    \\text{Var}[X] = n p (1-p)\n",
    "$$\n"
   ]
  },
  {
   "cell_type": "code",
   "execution_count": 1,
   "id": "62c2b051",
   "metadata": {},
   "outputs": [],
   "source": [
    "# Placeholder for python part of exersice YY\n"
   ]
  },
  {
   "cell_type": "markdown",
   "id": "d135bd79",
   "metadata": {},
   "source": [
    "## Exersice  ZZ\n",
    "\n",
    "### Solution:\n",
    "\n"
   ]
  },
  {
   "cell_type": "code",
   "execution_count": 2,
   "id": "0272c781",
   "metadata": {},
   "outputs": [],
   "source": [
    "# Placeholder for python part of exersice ZZ\n"
   ]
  }
 ],
 "metadata": {
  "kernelspec": {
   "display_name": "Python 3.9.12 64-bit",
   "language": "python",
   "name": "python3"
  },
  "language_info": {
   "codemirror_mode": {
    "name": "ipython",
    "version": 3
   },
   "file_extension": ".py",
   "mimetype": "text/x-python",
   "name": "python",
   "nbconvert_exporter": "python",
   "pygments_lexer": "ipython3",
   "version": "3.9.12"
  },
  "vscode": {
   "interpreter": {
    "hash": "b0fa6594d8f4cbf19f97940f81e996739fb7646882a419484c72d19e05852a7e"
   }
  }
 },
 "nbformat": 4,
 "nbformat_minor": 5
}
