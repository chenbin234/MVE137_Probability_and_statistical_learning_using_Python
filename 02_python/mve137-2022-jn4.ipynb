{
 "cells": [
  {
   "cell_type": "markdown",
   "id": "82b737ce",
   "metadata": {},
   "source": [
    "# Coupon collector problem: Markov and Chebyshev\n",
    "\n",
    "Let us go back to the coupon collector problem and study the probability that the number of boxes that we need to open to collect all coupons is larger than twice the mean $\\mathbb{E}[X]= nH(n)$, where $H(n)$ is the harmonic number.\n",
    "\n",
    "## Simulation approach\n",
    "Let us first simulate this probability"
   ]
  },
  {
   "cell_type": "code",
   "execution_count": 2,
   "id": "1a4ce5e6",
   "metadata": {},
   "outputs": [
    {
     "name": "stdout",
     "output_type": "stream",
     "text": [
      "probability of exceeding twice the mean 1.24e-02\n",
      "number of occurrences 124\n"
     ]
    }
   ],
   "source": [
    "import numpy as np\n",
    "\n",
    "n_coupon = 20 #number of coupons to collect\n",
    "runs = 10000    #number of simulation runs \n",
    "\n",
    "\n",
    "# harmonic number \n",
    "def HN(n):\n",
    "    return sum(1/np.arange(1,n+1))\n",
    "\n",
    "## \n",
    "def run(n,flag):\n",
    "    \"\"\"\n",
    "    n: number of different coupons (stamps)\n",
    "    return: boxes to be opened until all coupons are collected\n",
    "    \"\"\"\n",
    "    boxes = 0\n",
    "    collected = set()\n",
    "    while True:\n",
    "        # check if we have collected all coupons\n",
    "        if len(collected) == n:\n",
    "            break\n",
    "        # if not, we try to collect coupons \n",
    "        got = np.random.randint(0, n)  # choose a coupon, randomly 1/n\n",
    "        boxes += 1 #add one box to the count\n",
    "        collected.add(got) #add the coupon we got to the collection, if it is new\n",
    "        if flag==True:\n",
    "            print(got,collected)\n",
    "    return boxes\n",
    "\n",
    "    \n",
    "# some initializations \n",
    "counter=0\n",
    "mean = n_coupon*HN(n_coupon)\n",
    "\n",
    "for x in range(1, runs):  \n",
    "    boxes = run(n_coupon,False)\n",
    "    if (boxes > 2*mean):\n",
    "        counter+=1\n",
    "            \n",
    "print(\"probability of exceeding twice the mean {:.2e}\".format(counter / runs))\n",
    "print(\"number of occurrences\",counter)"
   ]
  },
  {
   "cell_type": "markdown",
   "id": "d32ffcac",
   "metadata": {},
   "source": [
    "## Markov estimate\n",
    "\n",
    "$$ \n",
    "\\mathbb{P}[X\\geq 2 \\mathbb{E}[X]]  \\leq  \\frac{n H(n)}{2n H(n)} = \\frac{1}{2} \n",
    "$$\n",
    "\n",
    "So this bound is loose; furthermore, it does not depend on the number of coupons "
   ]
  },
  {
   "cell_type": "markdown",
   "id": "2e536382",
   "metadata": {},
   "source": [
    "## Chebyshev estimate\n",
    "\n",
    "To compute Chebyshev's bound, we need the variance of $X$. Recall that $X=\\sum_{i=1}^n X_i$ with the $\\{X_i\\}$ being independent geometric random variables each with parameter $p_i = 1- (i-1)/n$.\n",
    "\n",
    "This implies that \n",
    "\n",
    "$$\n",
    "\\mathbb{V}\\text{ar}[X] = \\sum_{i=1}^n \\mathbb{V}\\text{ar}[X_i] = \\sum_{i=1}^n \\frac{1-p_i}{p^2_i} \n",
    "$$\n",
    "\n"
   ]
  },
  {
   "cell_type": "markdown",
   "id": "a354ce43",
   "metadata": {},
   "source": [
    "By Chebyshev's inequality:\n",
    "\n",
    "$$ \n",
    "\\mathbb{P}[X\\geq 2 \\mathbb{E}[X]] \\leq \\mathbb{P}[|X-nH(n)|\\geq nH(n)] \\leq \\frac{\\mathbb{V}\\text{ar}[X]}{n^2 H^2(n)}\n",
    "$$\n",
    "\n",
    "Let us evaluate the resulting bound "
   ]
  },
  {
   "cell_type": "code",
   "execution_count": 1,
   "id": "a5a8863e",
   "metadata": {},
   "outputs": [
    {
     "ename": "NameError",
     "evalue": "name 'n_coupon' is not defined",
     "output_type": "error",
     "traceback": [
      "\u001b[0;31m---------------------------------------------------------------------------\u001b[0m",
      "\u001b[0;31mNameError\u001b[0m                                 Traceback (most recent call last)",
      "\u001b[1;32m/Users/chenbingcheng/Downloads/STUDY/06_MPICT_Courses/01_semester1/Probability and statistical learning using Python/02_python/mve137-2022-jn4.ipynb Cell 6\u001b[0m in \u001b[0;36m<cell line: 2>\u001b[0;34m()\u001b[0m\n\u001b[1;32m      <a href='vscode-notebook-cell:/Users/chenbingcheng/Downloads/STUDY/06_MPICT_Courses/01_semester1/Probability%20and%20statistical%20learning%20using%20Python/02_python/mve137-2022-jn4.ipynb#W5sZmlsZQ%3D%3D?line=0'>1</a>\u001b[0m var \u001b[39m=\u001b[39m \u001b[39m0\u001b[39m\n\u001b[0;32m----> <a href='vscode-notebook-cell:/Users/chenbingcheng/Downloads/STUDY/06_MPICT_Courses/01_semester1/Probability%20and%20statistical%20learning%20using%20Python/02_python/mve137-2022-jn4.ipynb#W5sZmlsZQ%3D%3D?line=1'>2</a>\u001b[0m \u001b[39mfor\u001b[39;00m ii \u001b[39min\u001b[39;00m \u001b[39mrange\u001b[39m(n_coupon):\n\u001b[1;32m      <a href='vscode-notebook-cell:/Users/chenbingcheng/Downloads/STUDY/06_MPICT_Courses/01_semester1/Probability%20and%20statistical%20learning%20using%20Python/02_python/mve137-2022-jn4.ipynb#W5sZmlsZQ%3D%3D?line=2'>3</a>\u001b[0m     pri \u001b[39m=\u001b[39m \u001b[39m1\u001b[39m \u001b[39m-\u001b[39m ii\u001b[39m/\u001b[39mn_coupon \n\u001b[1;32m      <a href='vscode-notebook-cell:/Users/chenbingcheng/Downloads/STUDY/06_MPICT_Courses/01_semester1/Probability%20and%20statistical%20learning%20using%20Python/02_python/mve137-2022-jn4.ipynb#W5sZmlsZQ%3D%3D?line=3'>4</a>\u001b[0m     var \u001b[39m+\u001b[39m\u001b[39m=\u001b[39m (\u001b[39m1\u001b[39m\u001b[39m-\u001b[39mpri)\u001b[39m/\u001b[39mpri\u001b[39m*\u001b[39m\u001b[39m*\u001b[39m\u001b[39m2\u001b[39m\n",
      "\u001b[0;31mNameError\u001b[0m: name 'n_coupon' is not defined"
     ]
    }
   ],
   "source": [
    "var = 0\n",
    "for ii in range(n_coupon):\n",
    "    pri = 1 - ii/n_coupon \n",
    "    var += (1-pri)/pri**2\n",
    "\n",
    "print('probability estimate with Chebyshev {:.2e}'.format(var/(n_coupon*HN(n_coupon))**2))"
   ]
  },
  {
   "cell_type": "markdown",
   "id": "9415b024",
   "metadata": {},
   "source": [
    "Let us simplify the expression of the variance to get a sense about how the bound behaves as a function of $n$ \n",
    "\n",
    "$$\n",
    "\\mathbb{V}\\text{ar}[X] = \\sum_{i=1}^n \\frac{1-p_i}{p^2_i} \\leq \\sum_{i=1}^n \\frac{1}{p^2_i} \\leq \\sum_{i=1}^\\infty \\frac{1}{p^2_i} = \\frac{\\pi^2 n^2}{6} \n",
    "$$\n",
    "\n",
    "So \n",
    "\n",
    "$$ \n",
    "\\mathbb{P}[X\\geq 2 \\mathbb{E}[X]] \\leq \\frac{\\mathbb{V}\\text{ar}[X]}{n^2 H^2(n)}\\leq \\frac{\\pi^2 }{6 H^2(n)}\n",
    "$$\n",
    "\n",
    "This means that the bounds behaves roughly as $1/\\ln^2(n)$"
   ]
  },
  {
   "cell_type": "code",
   "execution_count": 3,
   "id": "4ca6b6e1",
   "metadata": {},
   "outputs": [
    {
     "name": "stdout",
     "output_type": "stream",
     "text": [
      "probability estimate with Chebyshev and variance upper bound 1.270835e-01\n"
     ]
    }
   ],
   "source": [
    "from math import pi\n",
    "print('probability estimate with Chebyshev and variance upper bound {:2e}'.format(pi**2/(6*HN(n_coupon)**2)))"
   ]
  },
  {
   "cell_type": "markdown",
   "id": "0d33b625",
   "metadata": {},
   "source": [
    "It turns out that this bound can be significantly improved and that the actual scaling is roughly $1/n$"
   ]
  }
 ],
 "metadata": {
  "kernelspec": {
   "display_name": "Python 3.9.12 64-bit",
   "language": "python",
   "name": "python3"
  },
  "language_info": {
   "codemirror_mode": {
    "name": "ipython",
    "version": 3
   },
   "file_extension": ".py",
   "mimetype": "text/x-python",
   "name": "python",
   "nbconvert_exporter": "python",
   "pygments_lexer": "ipython3",
   "version": "3.9.12"
  },
  "vscode": {
   "interpreter": {
    "hash": "b0fa6594d8f4cbf19f97940f81e996739fb7646882a419484c72d19e05852a7e"
   }
  }
 },
 "nbformat": 4,
 "nbformat_minor": 5
}
