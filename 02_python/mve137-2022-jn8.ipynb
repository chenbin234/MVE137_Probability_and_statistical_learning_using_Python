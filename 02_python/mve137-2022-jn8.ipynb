{
 "cells": [
  {
   "cell_type": "markdown",
   "id": "fad1c997",
   "metadata": {},
   "source": [
    "# Dynamics of Markov chains \n",
    "\n",
    "Let us consider a simple 2-state ON-OFF Markov chain and compute the $n$-step transition probability matrix $\\mathbf{P}(n)=\\mathbf{P}^n$\n",
    "We shall use the python package `sympy` to perform symbolic calculus "
   ]
  },
  {
   "cell_type": "code",
   "execution_count": 2,
   "id": "32fd96fb",
   "metadata": {
    "tags": []
   },
   "outputs": [
    {
     "data": {
      "text/latex": [
       "$\\displaystyle \\left[\\begin{matrix}1 - p & p\\\\q & 1 - q\\end{matrix}\\right]$"
      ],
      "text/plain": [
       "Matrix([\n",
       "[1 - p,     p],\n",
       "[    q, 1 - q]])"
      ]
     },
     "metadata": {},
     "output_type": "display_data"
    }
   ],
   "source": [
    "from sympy import *\n",
    "\n",
    "# variables over which to perform symbolic calculus\n",
    "p,q,n =symbols(\"p q n\")\n",
    "\n",
    "P=Matrix([[1-p, p],[q,1-q]])\n",
    "display(P)"
   ]
  },
  {
   "cell_type": "code",
   "execution_count": 2,
   "id": "a6970456",
   "metadata": {},
   "outputs": [
    {
     "data": {
      "text/latex": [
       "$\\displaystyle \\left[\\begin{matrix}p q + \\left(1 - p\\right)^{2} & p \\left(1 - p\\right) + p \\left(1 - q\\right)\\\\q \\left(1 - p\\right) + q \\left(1 - q\\right) & p q + \\left(1 - q\\right)^{2}\\end{matrix}\\right]$"
      ],
      "text/plain": [
       "Matrix([\n",
       "[     p*q + (1 - p)**2, p*(1 - p) + p*(1 - q)],\n",
       "[q*(1 - p) + q*(1 - q),      p*q + (1 - q)**2]])"
      ]
     },
     "metadata": {},
     "output_type": "display_data"
    }
   ],
   "source": [
    "display(P*P)"
   ]
  },
  {
   "cell_type": "code",
   "execution_count": 3,
   "id": "9c939ccd",
   "metadata": {},
   "outputs": [
    {
     "data": {
      "text/latex": [
       "$\\displaystyle \\left[\\begin{matrix}q \\left(p \\left(1 - p\\right) + p \\left(1 - q\\right)\\right) + \\left(1 - p\\right) \\left(p q + \\left(1 - p\\right)^{2}\\right) & p \\left(p q + \\left(1 - p\\right)^{2}\\right) + \\left(1 - q\\right) \\left(p \\left(1 - p\\right) + p \\left(1 - q\\right)\\right)\\\\q \\left(p q + \\left(1 - q\\right)^{2}\\right) + \\left(1 - p\\right) \\left(q \\left(1 - p\\right) + q \\left(1 - q\\right)\\right) & p \\left(q \\left(1 - p\\right) + q \\left(1 - q\\right)\\right) + \\left(1 - q\\right) \\left(p q + \\left(1 - q\\right)^{2}\\right)\\end{matrix}\\right]$"
      ],
      "text/plain": [
       "Matrix([\n",
       "[q*(p*(1 - p) + p*(1 - q)) + (1 - p)*(p*q + (1 - p)**2), p*(p*q + (1 - p)**2) + (1 - q)*(p*(1 - p) + p*(1 - q))],\n",
       "[q*(p*q + (1 - q)**2) + (1 - p)*(q*(1 - p) + q*(1 - q)), p*(q*(1 - p) + q*(1 - q)) + (1 - q)*(p*q + (1 - q)**2)]])"
      ]
     },
     "metadata": {},
     "output_type": "display_data"
    }
   ],
   "source": [
    "display(P*P*P)"
   ]
  },
  {
   "cell_type": "markdown",
   "id": "8d476aa3-3dad-4eaf-935c-8c6eca481805",
   "metadata": {},
   "source": [
    "So it is difficult to guess a general expression for $\\mathbf{P}^n$ simply by computing symbolically the products. Let us instead proceed by using that for most values on $p$ and $q$, we can perform an eigenvalue decomposition of $\\mathbf{P}$ and obtain $\\mathbf{P}=\\mathbf{SDS}^{-1}$ where the matrix $\\mathbf{S}$ contains the left eigenvectors of $\\mathbf{P}$ on its rows and the matrix $\\mathbf{D}$ is diagonal and contains the eigenvalues of $\\mathbf{P}$ on its diagonal."
   ]
  },
  {
   "cell_type": "code",
   "execution_count": 3,
   "id": "46b228a1",
   "metadata": {},
   "outputs": [
    {
     "data": {
      "text/latex": [
       "$\\displaystyle \\left[\\begin{matrix}1 & 0\\\\0 & - p - q + 1\\end{matrix}\\right]$"
      ],
      "text/plain": [
       "Matrix([\n",
       "[1,          0],\n",
       "[0, -p - q + 1]])"
      ]
     },
     "metadata": {},
     "output_type": "display_data"
    },
    {
     "data": {
      "text/latex": [
       "$\\displaystyle \\left[\\begin{matrix}1 & - \\frac{p}{q}\\\\1 & 1\\end{matrix}\\right]$"
      ],
      "text/plain": [
       "Matrix([\n",
       "[1, -p/q],\n",
       "[1,    1]])"
      ]
     },
     "metadata": {},
     "output_type": "display_data"
    }
   ],
   "source": [
    "S,D=P.diagonalize()\n",
    "display(D)\n",
    "display(S)"
   ]
  },
  {
   "cell_type": "markdown",
   "id": "8494add1-7ef3-4921-be8f-c541c45f9e03",
   "metadata": {},
   "source": [
    "Let us check that indeed $\\mathbf{P}=\\mathbf{SDS}^{-1}$"
   ]
  },
  {
   "cell_type": "code",
   "execution_count": 4,
   "id": "989034d3-9797-4131-a12f-2b44044f49e2",
   "metadata": {},
   "outputs": [
    {
     "data": {
      "text/latex": [
       "$\\displaystyle \\left[\\begin{matrix}1 - p & p\\\\q & 1 - q\\end{matrix}\\right]$"
      ],
      "text/plain": [
       "Matrix([\n",
       "[1 - p,     p],\n",
       "[    q, 1 - q]])"
      ]
     },
     "execution_count": 4,
     "metadata": {},
     "output_type": "execute_result"
    }
   ],
   "source": [
    "(S*D*S**(-1)).applyfunc(simplify)"
   ]
  },
  {
   "cell_type": "markdown",
   "id": "8f0a8503-69c5-4124-982d-abb730157e4e",
   "metadata": {},
   "source": [
    "Now we can obtain $\\mathbf{P}^n$ simply by computing $\\mathbf{S}\\mathbf{D}^n\\mathbf{S}^{-1}$"
   ]
  },
  {
   "cell_type": "code",
   "execution_count": 5,
   "id": "606a7f6e",
   "metadata": {},
   "outputs": [
    {
     "data": {
      "text/latex": [
       "$\\displaystyle \\left[\\begin{matrix}\\frac{p \\left(- p - q + 1\\right)^{n} + q}{p + q} & \\frac{p \\left(1 - \\left(- p - q + 1\\right)^{n}\\right)}{p + q}\\\\\\frac{q \\left(1 - \\left(- p - q + 1\\right)^{n}\\right)}{p + q} & \\frac{p + q \\left(- p - q + 1\\right)^{n}}{p + q}\\end{matrix}\\right]$"
      ],
      "text/plain": [
       "Matrix([\n",
       "[(p*(-p - q + 1)**n + q)/(p + q), p*(1 - (-p - q + 1)**n)/(p + q)],\n",
       "[q*(1 - (-p - q + 1)**n)/(p + q), (p + q*(-p - q + 1)**n)/(p + q)]])"
      ]
     },
     "execution_count": 5,
     "metadata": {},
     "output_type": "execute_result"
    }
   ],
   "source": [
    "(S*(D**n)*S**(-1)).applyfunc(simplify)"
   ]
  },
  {
   "cell_type": "markdown",
   "id": "7218bb21",
   "metadata": {},
   "source": [
    "Let us now evaluate the probability that the system is OFF at time $n=33$ given that it was OFF at time $0$"
   ]
  },
  {
   "cell_type": "code",
   "execution_count": 6,
   "id": "2f76fb22",
   "metadata": {},
   "outputs": [
    {
     "data": {
      "text/plain": [
       "0.7272727272727273"
      ]
     },
     "metadata": {},
     "output_type": "display_data"
    }
   ],
   "source": [
    "p=0.3\n",
    "q=0.8\n",
    "n=33\n",
    "\n",
    "lambda2=1-(p+q)\n",
    "\n",
    "P00n = q/(p+q) + (lambda2**n)*p/(p+q)\n",
    "display(P00n)"
   ]
  }
 ],
 "metadata": {
  "kernelspec": {
   "display_name": "Python 3.9.12 64-bit",
   "language": "python",
   "name": "python3"
  },
  "language_info": {
   "codemirror_mode": {
    "name": "ipython",
    "version": 3
   },
   "file_extension": ".py",
   "mimetype": "text/x-python",
   "name": "python",
   "nbconvert_exporter": "python",
   "pygments_lexer": "ipython3",
   "version": "3.9.12"
  },
  "vscode": {
   "interpreter": {
    "hash": "b0fa6594d8f4cbf19f97940f81e996739fb7646882a419484c72d19e05852a7e"
   }
  }
 },
 "nbformat": 4,
 "nbformat_minor": 5
}
